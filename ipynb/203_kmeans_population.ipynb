{
  "nbformat": 4,
  "nbformat_minor": 0,
  "metadata": {
    "colab": {
      "name": "203_kmeans_population.ipynb",
      "provenance": [],
      "collapsed_sections": [],
      "toc_visible": true,
      "authorship_tag": "ABX9TyPC5aiT31EMaRGlQa8YIMr7",
      "include_colab_link": true
    },
    "kernelspec": {
      "name": "python3",
      "display_name": "Python 3"
    },
    "language_info": {
      "name": "python"
    }
  },
  "cells": [
    {
      "cell_type": "markdown",
      "metadata": {
        "id": "view-in-github",
        "colab_type": "text"
      },
      "source": [
        "<a href=\"https://colab.research.google.com/github/knoppin1/DATA-606-Capstone/blob/main/ipynb/203_kmeans_population.ipynb\" target=\"_parent\"><img src=\"https://colab.research.google.com/assets/colab-badge.svg\" alt=\"Open In Colab\"/></a>"
      ]
    },
    {
      "cell_type": "markdown",
      "metadata": {
        "id": "bgzNVUA_6G_C"
      },
      "source": [
        "# DATA 606 Capstone \n",
        "## Ken Noppinger - Phase 2, Notebook 03\n",
        "### **Wealth and Population Density Influences on COVID-19 Cases and Vaccinations Using Machine Learning**\n",
        "#### <u>K-Means on Population and COVID-19 Case Densities: Florida and California Counties</u>\n",
        "\n",
        "This notebook performs K-Means clustering on the following features:\n",
        "* Population Per Square Mile \n",
        "* COVID-19 Cases Per Square Mile \n",
        "\n",
        "K-Means clustering is run for counties in the following states:\n",
        "* Florida \n",
        "* California\n",
        "\n",
        "The following algorithm is applied to each data set:\n",
        "- Filter data to counties in subject state\n",
        "- Scale features using StandardScaler\n",
        "- Loop to determine optimal clusters using Elbow Method\n",
        "    - Define K-Means clustering machine learning model\n",
        "    - Fit the model with the scaled features\n",
        "    - Plot the WCSS (within cluster sum of squares) to show the elbow\n",
        "- Define the K-Means model for the optimal K (i.e., number of clusters)  \n",
        "- Fit and predict cluster labels using the scaled features\n",
        "- Scatter plot the resulting clusters  \n",
        "\n",
        "Note: The \"all_data.pkl\" pickle file is loaded for use in this workbook and represents the consolidated data for the study from Phase I work.\n",
        "\n",
        "--------------------"
      ]
    },
    {
      "cell_type": "markdown",
      "metadata": {
        "id": "M6iUtqJc_ujr"
      },
      "source": [
        "## Set Up"
      ]
    },
    {
      "cell_type": "code",
      "metadata": {
        "id": "QZpOQtQ_o5Ga"
      },
      "source": [
        "import pandas as pd\n",
        "import numpy as np\n",
        "import pickle\n",
        "import matplotlib.pyplot as plt\n",
        "from sklearn.datasets import make_blobs\n",
        "from sklearn.cluster import KMeans\n",
        "from sklearn.metrics import silhouette_score\n",
        "from sklearn.preprocessing import StandardScaler\n",
        "from collections import Counter"
      ],
      "execution_count": null,
      "outputs": []
    },
    {
      "cell_type": "markdown",
      "metadata": {
        "id": "NcsCaHiGLAUN"
      },
      "source": [
        "Load Dataframe from Pickle file"
      ]
    },
    {
      "cell_type": "code",
      "metadata": {
        "colab": {
          "base_uri": "https://localhost:8080/"
        },
        "id": "qiu4yY1ipUAc",
        "outputId": "33763df8-f411-4ca5-b883-f8c4c42334b0"
      },
      "source": [
        "# Read from pickle file\n",
        "df = pd.read_pickle(\"./all_data_fips.pkl\")\n",
        "df.shape"
      ],
      "execution_count": null,
      "outputs": [
        {
          "output_type": "execute_result",
          "data": {
            "text/plain": [
              "(3112, 17)"
            ]
          },
          "metadata": {
            "tags": []
          },
          "execution_count": 2
        }
      ]
    },
    {
      "cell_type": "code",
      "metadata": {
        "colab": {
          "base_uri": "https://localhost:8080/",
          "height": 256
        },
        "id": "gX8D53sJptPr",
        "outputId": "35e2f061-72ce-46b1-bc1d-0ddc0fd5c6e9"
      },
      "source": [
        "# Verify data loaded.\n",
        "df.head(3)"
      ],
      "execution_count": null,
      "outputs": [
        {
          "output_type": "execute_result",
          "data": {
            "text/html": [
              "<div>\n",
              "<style scoped>\n",
              "    .dataframe tbody tr th:only-of-type {\n",
              "        vertical-align: middle;\n",
              "    }\n",
              "\n",
              "    .dataframe tbody tr th {\n",
              "        vertical-align: top;\n",
              "    }\n",
              "\n",
              "    .dataframe thead th {\n",
              "        text-align: right;\n",
              "    }\n",
              "</style>\n",
              "<table border=\"1\" class=\"dataframe\">\n",
              "  <thead>\n",
              "    <tr style=\"text-align: right;\">\n",
              "      <th></th>\n",
              "      <th>FIPS</th>\n",
              "      <th>FIPS_Code</th>\n",
              "      <th>County</th>\n",
              "      <th>State_Abbr</th>\n",
              "      <th>State</th>\n",
              "      <th>Place</th>\n",
              "      <th>Land_Area</th>\n",
              "      <th>Population</th>\n",
              "      <th>Pop_Sq_Mile</th>\n",
              "      <th>Income</th>\n",
              "      <th>Confirmed</th>\n",
              "      <th>Cases_Sq_Mile</th>\n",
              "      <th>Deaths</th>\n",
              "      <th>Deaths_Sq_Mile</th>\n",
              "      <th>Vaccinated</th>\n",
              "      <th>Vax_Pct</th>\n",
              "      <th>Vax_Sq_Mile</th>\n",
              "    </tr>\n",
              "  </thead>\n",
              "  <tbody>\n",
              "    <tr>\n",
              "      <th>0</th>\n",
              "      <td>2013</td>\n",
              "      <td>02013</td>\n",
              "      <td>Aleutians East Borough</td>\n",
              "      <td>AK</td>\n",
              "      <td>Alaska</td>\n",
              "      <td>Aleutians East, Alaska, US</td>\n",
              "      <td>6981.94</td>\n",
              "      <td>3337</td>\n",
              "      <td>0</td>\n",
              "      <td>62537</td>\n",
              "      <td>369</td>\n",
              "      <td>0</td>\n",
              "      <td>3</td>\n",
              "      <td>0</td>\n",
              "      <td>2172</td>\n",
              "      <td>65.1</td>\n",
              "      <td>0</td>\n",
              "    </tr>\n",
              "    <tr>\n",
              "      <th>1</th>\n",
              "      <td>2016</td>\n",
              "      <td>02016</td>\n",
              "      <td>Aleutians West Census Area</td>\n",
              "      <td>AK</td>\n",
              "      <td>Alaska</td>\n",
              "      <td>Aleutians West, Alaska, US</td>\n",
              "      <td>4390.28</td>\n",
              "      <td>5634</td>\n",
              "      <td>1</td>\n",
              "      <td>58008</td>\n",
              "      <td>721</td>\n",
              "      <td>0</td>\n",
              "      <td>1</td>\n",
              "      <td>0</td>\n",
              "      <td>2656</td>\n",
              "      <td>47.1</td>\n",
              "      <td>0</td>\n",
              "    </tr>\n",
              "    <tr>\n",
              "      <th>2</th>\n",
              "      <td>2020</td>\n",
              "      <td>02020</td>\n",
              "      <td>Anchorage Municipality</td>\n",
              "      <td>AK</td>\n",
              "      <td>Alaska</td>\n",
              "      <td>Anchorage, Alaska, US</td>\n",
              "      <td>1704.68</td>\n",
              "      <td>288000</td>\n",
              "      <td>168</td>\n",
              "      <td>70145</td>\n",
              "      <td>31058</td>\n",
              "      <td>18</td>\n",
              "      <td>179</td>\n",
              "      <td>0</td>\n",
              "      <td>126221</td>\n",
              "      <td>43.8</td>\n",
              "      <td>74</td>\n",
              "    </tr>\n",
              "  </tbody>\n",
              "</table>\n",
              "</div>"
            ],
            "text/plain": [
              "   FIPS FIPS_Code                      County  ... Vaccinated Vax_Pct Vax_Sq_Mile\n",
              "0  2013     02013      Aleutians East Borough  ...       2172    65.1           0\n",
              "1  2016     02016  Aleutians West Census Area  ...       2656    47.1           0\n",
              "2  2020     02020      Anchorage Municipality  ...     126221    43.8          74\n",
              "\n",
              "[3 rows x 17 columns]"
            ]
          },
          "metadata": {
            "tags": []
          },
          "execution_count": 3
        }
      ]
    },
    {
      "cell_type": "code",
      "metadata": {
        "colab": {
          "base_uri": "https://localhost:8080/",
          "height": 290
        },
        "id": "Mni17GNiqhoR",
        "outputId": "8dd3b18f-f0f5-45c7-99b9-92adce447c25"
      },
      "source": [
        "# Review statistics\n",
        "df.describe()"
      ],
      "execution_count": null,
      "outputs": [
        {
          "output_type": "execute_result",
          "data": {
            "text/html": [
              "<div>\n",
              "<style scoped>\n",
              "    .dataframe tbody tr th:only-of-type {\n",
              "        vertical-align: middle;\n",
              "    }\n",
              "\n",
              "    .dataframe tbody tr th {\n",
              "        vertical-align: top;\n",
              "    }\n",
              "\n",
              "    .dataframe thead th {\n",
              "        text-align: right;\n",
              "    }\n",
              "</style>\n",
              "<table border=\"1\" class=\"dataframe\">\n",
              "  <thead>\n",
              "    <tr style=\"text-align: right;\">\n",
              "      <th></th>\n",
              "      <th>FIPS</th>\n",
              "      <th>Land_Area</th>\n",
              "      <th>Population</th>\n",
              "      <th>Pop_Sq_Mile</th>\n",
              "      <th>Income</th>\n",
              "      <th>Confirmed</th>\n",
              "      <th>Cases_Sq_Mile</th>\n",
              "      <th>Deaths</th>\n",
              "      <th>Deaths_Sq_Mile</th>\n",
              "      <th>Vaccinated</th>\n",
              "      <th>Vax_Pct</th>\n",
              "      <th>Vax_Sq_Mile</th>\n",
              "    </tr>\n",
              "  </thead>\n",
              "  <tbody>\n",
              "    <tr>\n",
              "      <th>count</th>\n",
              "      <td>3112.000000</td>\n",
              "      <td>3112.000000</td>\n",
              "      <td>3.112000e+03</td>\n",
              "      <td>3112.000000</td>\n",
              "      <td>3112.000000</td>\n",
              "      <td>3.112000e+03</td>\n",
              "      <td>3112.000000</td>\n",
              "      <td>3112.000000</td>\n",
              "      <td>3112.000000</td>\n",
              "      <td>3.112000e+03</td>\n",
              "      <td>3112.000000</td>\n",
              "      <td>3112.000000</td>\n",
              "    </tr>\n",
              "    <tr>\n",
              "      <th>mean</th>\n",
              "      <td>30282.262211</td>\n",
              "      <td>1106.374479</td>\n",
              "      <td>1.049407e+05</td>\n",
              "      <td>270.714332</td>\n",
              "      <td>45955.784062</td>\n",
              "      <td>1.061510e+04</td>\n",
              "      <td>26.421594</td>\n",
              "      <td>190.291774</td>\n",
              "      <td>0.430591</td>\n",
              "      <td>4.015677e+04</td>\n",
              "      <td>30.457584</td>\n",
              "      <td>105.849936</td>\n",
              "    </tr>\n",
              "    <tr>\n",
              "      <th>std</th>\n",
              "      <td>15126.815912</td>\n",
              "      <td>3610.275409</td>\n",
              "      <td>3.347700e+05</td>\n",
              "      <td>1782.779788</td>\n",
              "      <td>13144.549879</td>\n",
              "      <td>3.754849e+04</td>\n",
              "      <td>175.938025</td>\n",
              "      <td>727.551874</td>\n",
              "      <td>5.704471</td>\n",
              "      <td>1.501343e+05</td>\n",
              "      <td>15.123688</td>\n",
              "      <td>951.683493</td>\n",
              "    </tr>\n",
              "    <tr>\n",
              "      <th>min</th>\n",
              "      <td>1001.000000</td>\n",
              "      <td>2.000000</td>\n",
              "      <td>1.690000e+02</td>\n",
              "      <td>0.000000</td>\n",
              "      <td>19472.000000</td>\n",
              "      <td>0.000000e+00</td>\n",
              "      <td>0.000000</td>\n",
              "      <td>0.000000</td>\n",
              "      <td>0.000000</td>\n",
              "      <td>0.000000e+00</td>\n",
              "      <td>0.000000</td>\n",
              "      <td>0.000000</td>\n",
              "    </tr>\n",
              "    <tr>\n",
              "      <th>25%</th>\n",
              "      <td>18170.500000</td>\n",
              "      <td>430.567500</td>\n",
              "      <td>1.094850e+04</td>\n",
              "      <td>16.750000</td>\n",
              "      <td>37962.000000</td>\n",
              "      <td>1.085000e+03</td>\n",
              "      <td>1.000000</td>\n",
              "      <td>20.000000</td>\n",
              "      <td>0.000000</td>\n",
              "      <td>2.198250e+03</td>\n",
              "      <td>23.500000</td>\n",
              "      <td>2.000000</td>\n",
              "    </tr>\n",
              "    <tr>\n",
              "      <th>50%</th>\n",
              "      <td>29160.000000</td>\n",
              "      <td>612.290000</td>\n",
              "      <td>2.607000e+04</td>\n",
              "      <td>45.000000</td>\n",
              "      <td>43431.500000</td>\n",
              "      <td>2.639000e+03</td>\n",
              "      <td>4.000000</td>\n",
              "      <td>51.000000</td>\n",
              "      <td>0.000000</td>\n",
              "      <td>6.654000e+03</td>\n",
              "      <td>31.700000</td>\n",
              "      <td>11.000000</td>\n",
              "    </tr>\n",
              "    <tr>\n",
              "      <th>75%</th>\n",
              "      <td>45049.500000</td>\n",
              "      <td>917.662500</td>\n",
              "      <td>6.831300e+04</td>\n",
              "      <td>118.250000</td>\n",
              "      <td>50732.750000</td>\n",
              "      <td>6.800000e+03</td>\n",
              "      <td>12.000000</td>\n",
              "      <td>121.000000</td>\n",
              "      <td>0.000000</td>\n",
              "      <td>2.162975e+04</td>\n",
              "      <td>40.500000</td>\n",
              "      <td>35.000000</td>\n",
              "    </tr>\n",
              "    <tr>\n",
              "      <th>max</th>\n",
              "      <td>56045.000000</td>\n",
              "      <td>145504.790000</td>\n",
              "      <td>1.003911e+07</td>\n",
              "      <td>71340.000000</td>\n",
              "      <td>229825.000000</td>\n",
              "      <td>1.247909e+06</td>\n",
              "      <td>6065.000000</td>\n",
              "      <td>24459.000000</td>\n",
              "      <td>197.000000</td>\n",
              "      <td>4.922209e+06</td>\n",
              "      <td>99.900000</td>\n",
              "      <td>42855.000000</td>\n",
              "    </tr>\n",
              "  </tbody>\n",
              "</table>\n",
              "</div>"
            ],
            "text/plain": [
              "               FIPS      Land_Area  ...      Vax_Pct   Vax_Sq_Mile\n",
              "count   3112.000000    3112.000000  ...  3112.000000   3112.000000\n",
              "mean   30282.262211    1106.374479  ...    30.457584    105.849936\n",
              "std    15126.815912    3610.275409  ...    15.123688    951.683493\n",
              "min     1001.000000       2.000000  ...     0.000000      0.000000\n",
              "25%    18170.500000     430.567500  ...    23.500000      2.000000\n",
              "50%    29160.000000     612.290000  ...    31.700000     11.000000\n",
              "75%    45049.500000     917.662500  ...    40.500000     35.000000\n",
              "max    56045.000000  145504.790000  ...    99.900000  42855.000000\n",
              "\n",
              "[8 rows x 12 columns]"
            ]
          },
          "metadata": {
            "tags": []
          },
          "execution_count": 4
        }
      ]
    },
    {
      "cell_type": "markdown",
      "metadata": {
        "id": "aNXsUXrU__UC"
      },
      "source": [
        "## Florida"
      ]
    },
    {
      "cell_type": "markdown",
      "metadata": {
        "id": "xc-p0KczApXw"
      },
      "source": [
        "### Filter State/County Data"
      ]
    },
    {
      "cell_type": "code",
      "metadata": {
        "colab": {
          "base_uri": "https://localhost:8080/"
        },
        "id": "AgS_cmZQx9cF",
        "outputId": "9b2af118-7fc0-4253-8d3f-b3aa99874fb5"
      },
      "source": [
        "florida_df = df.query(\"`State` == 'Florida'\")\n",
        "florida_df.shape"
      ],
      "execution_count": null,
      "outputs": [
        {
          "output_type": "execute_result",
          "data": {
            "text/plain": [
              "(67, 17)"
            ]
          },
          "metadata": {
            "tags": []
          },
          "execution_count": 5
        }
      ]
    },
    {
      "cell_type": "markdown",
      "metadata": {
        "id": "5U_Yoxxc1S20"
      },
      "source": [
        "Reference: https://www.thiscodeworks.com/use-sklearn-standardscaler-only-on-certain-feature-columns-python/605cc55c3c8db10014203c0e"
      ]
    },
    {
      "cell_type": "markdown",
      "metadata": {
        "id": "KiiUhSs3AyOI"
      },
      "source": [
        "### Scale Feature Data"
      ]
    },
    {
      "cell_type": "code",
      "metadata": {
        "colab": {
          "base_uri": "https://localhost:8080/",
          "height": 408
        },
        "id": "HvafLIBczKaK",
        "outputId": "850c6200-94ca-4396-e2f6-daeb56ee74b2"
      },
      "source": [
        "scaled_features = florida_df.copy()\n",
        " \n",
        "col_names = ['Pop_Sq_Mile','Cases_Sq_Mile']\n",
        "features = scaled_features[col_names]\n",
        "scaler = StandardScaler().fit(features.values)\n",
        "features = scaler.transform(features.values)\n",
        " \n",
        "scaled_features[col_names] = features\n",
        "scaled_features[['Pop_Sq_Mile','Cases_Sq_Mile']]"
      ],
      "execution_count": null,
      "outputs": [
        {
          "output_type": "execute_result",
          "data": {
            "text/html": [
              "<div>\n",
              "<style scoped>\n",
              "    .dataframe tbody tr th:only-of-type {\n",
              "        vertical-align: middle;\n",
              "    }\n",
              "\n",
              "    .dataframe tbody tr th {\n",
              "        vertical-align: top;\n",
              "    }\n",
              "\n",
              "    .dataframe thead th {\n",
              "        text-align: right;\n",
              "    }\n",
              "</style>\n",
              "<table border=\"1\" class=\"dataframe\">\n",
              "  <thead>\n",
              "    <tr style=\"text-align: right;\">\n",
              "      <th></th>\n",
              "      <th>Pop_Sq_Mile</th>\n",
              "      <th>Cases_Sq_Mile</th>\n",
              "    </tr>\n",
              "  </thead>\n",
              "  <tbody>\n",
              "    <tr>\n",
              "      <th>317</th>\n",
              "      <td>-0.133347</td>\n",
              "      <td>-0.148195</td>\n",
              "    </tr>\n",
              "    <tr>\n",
              "      <th>318</th>\n",
              "      <td>-0.583988</td>\n",
              "      <td>-0.537240</td>\n",
              "    </tr>\n",
              "    <tr>\n",
              "      <th>319</th>\n",
              "      <td>-0.267841</td>\n",
              "      <td>-0.182025</td>\n",
              "    </tr>\n",
              "    <tr>\n",
              "      <th>320</th>\n",
              "      <td>-0.503642</td>\n",
              "      <td>-0.469580</td>\n",
              "    </tr>\n",
              "    <tr>\n",
              "      <th>321</th>\n",
              "      <td>0.364455</td>\n",
              "      <td>0.071699</td>\n",
              "    </tr>\n",
              "    <tr>\n",
              "      <th>...</th>\n",
              "      <td>...</td>\n",
              "      <td>...</td>\n",
              "    </tr>\n",
              "    <tr>\n",
              "      <th>379</th>\n",
              "      <td>-0.561282</td>\n",
              "      <td>-0.520325</td>\n",
              "    </tr>\n",
              "    <tr>\n",
              "      <th>380</th>\n",
              "      <td>0.207255</td>\n",
              "      <td>0.054784</td>\n",
              "    </tr>\n",
              "    <tr>\n",
              "      <th>381</th>\n",
              "      <td>-0.573508</td>\n",
              "      <td>-0.554155</td>\n",
              "    </tr>\n",
              "    <tr>\n",
              "      <th>382</th>\n",
              "      <td>-0.545562</td>\n",
              "      <td>-0.520325</td>\n",
              "    </tr>\n",
              "    <tr>\n",
              "      <th>383</th>\n",
              "      <td>-0.594469</td>\n",
              "      <td>-0.571070</td>\n",
              "    </tr>\n",
              "  </tbody>\n",
              "</table>\n",
              "<p>67 rows × 2 columns</p>\n",
              "</div>"
            ],
            "text/plain": [
              "     Pop_Sq_Mile  Cases_Sq_Mile\n",
              "317    -0.133347      -0.148195\n",
              "318    -0.583988      -0.537240\n",
              "319    -0.267841      -0.182025\n",
              "320    -0.503642      -0.469580\n",
              "321     0.364455       0.071699\n",
              "..           ...            ...\n",
              "379    -0.561282      -0.520325\n",
              "380     0.207255       0.054784\n",
              "381    -0.573508      -0.554155\n",
              "382    -0.545562      -0.520325\n",
              "383    -0.594469      -0.571070\n",
              "\n",
              "[67 rows x 2 columns]"
            ]
          },
          "metadata": {
            "tags": []
          },
          "execution_count": 6
        }
      ]
    },
    {
      "cell_type": "markdown",
      "metadata": {
        "id": "4DIdnpRABIdf"
      },
      "source": [
        "### Determine Optimal Clusters (Elbow Method)"
      ]
    },
    {
      "cell_type": "code",
      "metadata": {
        "id": "DifvJJeu6htI"
      },
      "source": [
        "X = scaled_features[['Pop_Sq_Mile','Cases_Sq_Mile']]\n",
        "#X = florida_df[['Pop_Sq_Mile','Cases_Sq_Mile']]"
      ],
      "execution_count": null,
      "outputs": []
    },
    {
      "cell_type": "markdown",
      "metadata": {
        "id": "U3lmbNxFDTlB"
      },
      "source": [
        "Reference: https://medium.com/pursuitnotes/k-means-clustering-model-in-6-steps-with-python-35b532cfa8ad"
      ]
    },
    {
      "cell_type": "code",
      "metadata": {
        "colab": {
          "base_uri": "https://localhost:8080/",
          "height": 512
        },
        "id": "4x5C9x5m7-Tn",
        "outputId": "bdd1a9b4-64b6-4f89-b418-84dd87fdd420"
      },
      "source": [
        "# Using the elbow method to find out the optimal number of clusters. \n",
        "wcss=[]\n",
        "\n",
        "# Loop ten times to:\n",
        "#  - fit the k-means algorithm to data \n",
        "#  - use kmean++ random initialization method \n",
        "#  - allow for a maximum of 300 iterations to find final clusters \n",
        "#  - run the algorithm for 10 different initial centroids \n",
        "for i in range(1,11):\n",
        "    kmeans = KMeans(n_clusters=i, init ='k-means++', max_iter=300,  n_init=10, random_state=0)\n",
        "    kmeans.fit(X)\n",
        "\n",
        "    # Compute the WCSS (within cluster sum of squares) and append it to a WCSS list.\n",
        "    wcss.append(kmeans.inertia_)\n",
        "\n",
        "# Plot the elbow graph using the WCSS list.\n",
        "fig= plt.figure(figsize=(16,8))\n",
        "plt.plot(range(1,11),wcss)\n",
        "plt.title('The Elbow Method Graph')\n",
        "plt.xlabel('Number of clusters')\n",
        "plt.ylabel('WCSS')\n",
        "plt.show()"
      ],
      "execution_count": null,
      "outputs": [
        {
          "output_type": "display_data",
          "data": {
            "image/png": "[encoded data removed]",
            "text/plain": [
              "<Figure size 1152x576 with 1 Axes>"
            ]
          },
          "metadata": {
            "tags": [],
            "needs_background": "light"
          }
        }
      ]
    },
    {
      "cell_type": "markdown",
      "metadata": {
        "id": "nz9HqMwEGwLG"
      },
      "source": [
        "***Four (4) clusters seems to be the optimum number of clusters because that is where the elbow curves***"
      ]
    },
    {
      "cell_type": "markdown",
      "metadata": {
        "id": "_y9GhoOtCIu7"
      },
      "source": [
        "### Run Optimal K-Means"
      ]
    },
    {
      "cell_type": "markdown",
      "metadata": {
        "id": "iIPae7tLDlP4"
      },
      "source": [
        "Create and fit the optimal K-Means cluster model"
      ]
    },
    {
      "cell_type": "code",
      "metadata": {
        "colab": {
          "base_uri": "https://localhost:8080/"
        },
        "id": "N8kV-R5HGMRE",
        "outputId": "44b209ee-fca8-46e6-d47c-e0bf965ad054"
      },
      "source": [
        "kmeans = KMeans(n_clusters=4, init ='k-means++', max_iter=300, n_init=10, random_state=0 )\n",
        "kmeans.fit(X)"
      ],
      "execution_count": null,
      "outputs": [
        {
          "output_type": "execute_result",
          "data": {
            "text/plain": [
              "KMeans(algorithm='auto', copy_x=True, init='k-means++', max_iter=300,\n",
              "       n_clusters=4, n_init=10, n_jobs=None, precompute_distances='auto',\n",
              "       random_state=0, tol=0.0001, verbose=0)"
            ]
          },
          "metadata": {
            "tags": []
          },
          "execution_count": 9
        }
      ]
    },
    {
      "cell_type": "code",
      "metadata": {
        "colab": {
          "base_uri": "https://localhost:8080/"
        },
        "id": "U7Wc_p3sKr0X",
        "outputId": "1ed8535d-0016-4358-e047-ff7741cab1bf"
      },
      "source": [
        "# The number of iterations required to converge\n",
        "kmeans.n_iter_"
      ],
      "execution_count": null,
      "outputs": [
        {
          "output_type": "execute_result",
          "data": {
            "text/plain": [
              "5"
            ]
          },
          "metadata": {
            "tags": []
          },
          "execution_count": 10
        }
      ]
    },
    {
      "cell_type": "markdown",
      "metadata": {
        "id": "YJ0d0glGDhRY"
      },
      "source": [
        "Fit and predict the cluster labels"
      ]
    },
    {
      "cell_type": "code",
      "metadata": {
        "colab": {
          "base_uri": "https://localhost:8080/"
        },
        "id": "Z6MRnrjBG_Sp",
        "outputId": "13a6bd6c-1c70-4964-a220-26dc1ade28a7"
      },
      "source": [
        "labels = kmeans.fit_predict(X)\n",
        "Counter(labels)"
      ],
      "execution_count": null,
      "outputs": [
        {
          "output_type": "execute_result",
          "data": {
            "text/plain": [
              "Counter({0: 15, 1: 45, 2: 6, 3: 1})"
            ]
          },
          "metadata": {
            "tags": []
          },
          "execution_count": 11
        }
      ]
    },
    {
      "cell_type": "code",
      "metadata": {
        "colab": {
          "base_uri": "https://localhost:8080/"
        },
        "id": "f3eAtHHYNngZ",
        "outputId": "b52d79ca-b9c6-4579-8991-c7c7d29aa754"
      },
      "source": [
        "X['Label'] = labels"
      ],
      "execution_count": null,
      "outputs": [
        {
          "output_type": "stream",
          "text": [
            "/usr/local/lib/python3.7/dist-packages/ipykernel_launcher.py:1: SettingWithCopyWarning: \n",
            "A value is trying to be set on a copy of a slice from a DataFrame.\n",
            "Try using .loc[row_indexer,col_indexer] = value instead\n",
            "\n",
            "See the caveats in the documentation: https://pandas.pydata.org/pandas-docs/stable/user_guide/indexing.html#returning-a-view-versus-a-copy\n",
            "  \"\"\"Entry point for launching an IPython kernel.\n"
          ],
          "name": "stderr"
        }
      ]
    },
    {
      "cell_type": "markdown",
      "metadata": {
        "id": "VUuo_5WQDahh"
      },
      "source": [
        "Look at centroids"
      ]
    },
    {
      "cell_type": "code",
      "metadata": {
        "colab": {
          "base_uri": "https://localhost:8080/"
        },
        "id": "rW_8T6pbTaxu",
        "outputId": "7a5600d4-c7d7-4448-d2f4-858a0e900e16"
      },
      "source": [
        "kmeans.cluster_centers_"
      ],
      "execution_count": null,
      "outputs": [
        {
          "output_type": "execute_result",
          "data": {
            "text/plain": [
              "array([[ 0.30879447,  0.21265754],\n",
              "       [-0.47891639, -0.4684525 ],\n",
              "       [ 1.89512319,  2.2424557 ],\n",
              "       [ 5.54858158,  4.43576537]])"
            ]
          },
          "metadata": {
            "tags": []
          },
          "execution_count": 13
        }
      ]
    },
    {
      "cell_type": "code",
      "metadata": {
        "colab": {
          "base_uri": "https://localhost:8080/",
          "height": 230
        },
        "id": "TFtWhoqfI46p",
        "outputId": "197bdc9a-7ce8-470e-f35d-ea078fd95345"
      },
      "source": [
        "X[X.Label==2][['Pop_Sq_Mile','Cases_Sq_Mile']]"
      ],
      "execution_count": null,
      "outputs": [
        {
          "output_type": "execute_result",
          "data": {
            "text/html": [
              "<div>\n",
              "<style scoped>\n",
              "    .dataframe tbody tr th:only-of-type {\n",
              "        vertical-align: middle;\n",
              "    }\n",
              "\n",
              "    .dataframe tbody tr th {\n",
              "        vertical-align: top;\n",
              "    }\n",
              "\n",
              "    .dataframe thead th {\n",
              "        text-align: right;\n",
              "    }\n",
              "</style>\n",
              "<table border=\"1\" class=\"dataframe\">\n",
              "  <thead>\n",
              "    <tr style=\"text-align: right;\">\n",
              "      <th></th>\n",
              "      <th>Pop_Sq_Mile</th>\n",
              "      <th>Cases_Sq_Mile</th>\n",
              "    </tr>\n",
              "  </thead>\n",
              "  <tbody>\n",
              "    <tr>\n",
              "      <th>322</th>\n",
              "      <td>2.149555</td>\n",
              "      <td>2.811927</td>\n",
              "    </tr>\n",
              "    <tr>\n",
              "      <th>331</th>\n",
              "      <td>1.524246</td>\n",
              "      <td>1.627878</td>\n",
              "    </tr>\n",
              "    <tr>\n",
              "      <th>344</th>\n",
              "      <td>1.849127</td>\n",
              "      <td>1.763198</td>\n",
              "    </tr>\n",
              "    <tr>\n",
              "      <th>359</th>\n",
              "      <td>1.829914</td>\n",
              "      <td>3.860656</td>\n",
              "    </tr>\n",
              "    <tr>\n",
              "      <th>364</th>\n",
              "      <td>2.023795</td>\n",
              "      <td>2.067668</td>\n",
              "    </tr>\n",
              "    <tr>\n",
              "      <th>373</th>\n",
              "      <td>1.994101</td>\n",
              "      <td>1.323408</td>\n",
              "    </tr>\n",
              "  </tbody>\n",
              "</table>\n",
              "</div>"
            ],
            "text/plain": [
              "     Pop_Sq_Mile  Cases_Sq_Mile\n",
              "322     2.149555       2.811927\n",
              "331     1.524246       1.627878\n",
              "344     1.849127       1.763198\n",
              "359     1.829914       3.860656\n",
              "364     2.023795       2.067668\n",
              "373     1.994101       1.323408"
            ]
          },
          "metadata": {
            "tags": []
          },
          "execution_count": 14
        }
      ]
    },
    {
      "cell_type": "markdown",
      "metadata": {
        "id": "x1oDY8vdDzh4"
      },
      "source": [
        "### Scatter Plot Cluster Results"
      ]
    },
    {
      "cell_type": "markdown",
      "metadata": {
        "id": "K7quBj4tIoWL"
      },
      "source": [
        "#### Plot scaled data cluster "
      ]
    },
    {
      "cell_type": "code",
      "metadata": {
        "colab": {
          "base_uri": "https://localhost:8080/",
          "height": 527
        },
        "id": "VcdxLcw8H7Yp",
        "outputId": "09a83ba9-5cbe-4ebe-d70e-b1067b6ebf1c"
      },
      "source": [
        "fig= plt.figure(figsize=(16,8))\n",
        "plt.scatter(X[X.Label==0]['Pop_Sq_Mile'], X[X.Label==0]['Cases_Sq_Mile'], s=50, c='red', label ='Cluster 1')\n",
        "plt.scatter(X[X.Label==1]['Pop_Sq_Mile'], X[X.Label==1]['Cases_Sq_Mile'], s=50, c='cyan', label ='Cluster 2')\n",
        "plt.scatter(X[X.Label==2]['Pop_Sq_Mile'], X[X.Label==2]['Cases_Sq_Mile'], s=50, c='orange', label ='Cluster 3')\n",
        "plt.scatter(X[X.Label==3]['Pop_Sq_Mile'], X[X.Label==3]['Cases_Sq_Mile'], s=50, c='blue', label ='Cluster 4')\n",
        "plt.scatter(kmeans.cluster_centers_[:, 0], kmeans.cluster_centers_[:, 1], s=300, c='black', label = 'Centroids', marker='*')\n",
        "#plt.xlim(0,4000)\n",
        "#plt.ylim(0,350)\n",
        "plt.title('Clusters of Population Density and COVID-19 Cases\\nFlorida Counties')\n",
        "plt.xlabel('Population Per Square Mile')\n",
        "plt.ylabel('Cases Per Square Mile')\n",
        "plt.legend(loc='upper left')\n",
        "plt.show()"
      ],
      "execution_count": null,
      "outputs": [
        {
          "output_type": "display_data",
          "data": {
            "image/png": "[encoded data removed]",
            "text/plain": [
              "<Figure size 1152x576 with 1 Axes>"
            ]
          },
          "metadata": {
            "tags": [],
            "needs_background": "light"
          }
        }
      ]
    },
    {
      "cell_type": "code",
      "metadata": {
        "colab": {
          "base_uri": "https://localhost:8080/",
          "height": 236
        },
        "id": "OkbVq5-WIq3V",
        "outputId": "cba2161a-60de-498f-84eb-4fe9ee055132"
      },
      "source": [
        "florida_df['Label'] = labels\n",
        "florida_df[['County','Pop_Sq_Mile','Cases_Sq_Mile','Label']].head(3)"
      ],
      "execution_count": null,
      "outputs": [
        {
          "output_type": "stream",
          "text": [
            "/usr/local/lib/python3.7/dist-packages/ipykernel_launcher.py:1: SettingWithCopyWarning: \n",
            "A value is trying to be set on a copy of a slice from a DataFrame.\n",
            "Try using .loc[row_indexer,col_indexer] = value instead\n",
            "\n",
            "See the caveats in the documentation: https://pandas.pydata.org/pandas-docs/stable/user_guide/indexing.html#returning-a-view-versus-a-copy\n",
            "  \"\"\"Entry point for launching an IPython kernel.\n"
          ],
          "name": "stderr"
        },
        {
          "output_type": "execute_result",
          "data": {
            "text/html": [
              "<div>\n",
              "<style scoped>\n",
              "    .dataframe tbody tr th:only-of-type {\n",
              "        vertical-align: middle;\n",
              "    }\n",
              "\n",
              "    .dataframe tbody tr th {\n",
              "        vertical-align: top;\n",
              "    }\n",
              "\n",
              "    .dataframe thead th {\n",
              "        text-align: right;\n",
              "    }\n",
              "</style>\n",
              "<table border=\"1\" class=\"dataframe\">\n",
              "  <thead>\n",
              "    <tr style=\"text-align: right;\">\n",
              "      <th></th>\n",
              "      <th>County</th>\n",
              "      <th>Pop_Sq_Mile</th>\n",
              "      <th>Cases_Sq_Mile</th>\n",
              "      <th>Label</th>\n",
              "    </tr>\n",
              "  </thead>\n",
              "  <tbody>\n",
              "    <tr>\n",
              "      <th>317</th>\n",
              "      <td>Alachua County</td>\n",
              "      <td>307</td>\n",
              "      <td>29</td>\n",
              "      <td>1</td>\n",
              "    </tr>\n",
              "    <tr>\n",
              "      <th>318</th>\n",
              "      <td>Baker County</td>\n",
              "      <td>49</td>\n",
              "      <td>6</td>\n",
              "      <td>1</td>\n",
              "    </tr>\n",
              "    <tr>\n",
              "      <th>319</th>\n",
              "      <td>Bay County</td>\n",
              "      <td>230</td>\n",
              "      <td>27</td>\n",
              "      <td>1</td>\n",
              "    </tr>\n",
              "  </tbody>\n",
              "</table>\n",
              "</div>"
            ],
            "text/plain": [
              "             County  Pop_Sq_Mile  Cases_Sq_Mile  Label\n",
              "317  Alachua County          307             29      1\n",
              "318    Baker County           49              6      1\n",
              "319      Bay County          230             27      1"
            ]
          },
          "metadata": {
            "tags": []
          },
          "execution_count": 16
        }
      ]
    },
    {
      "cell_type": "markdown",
      "metadata": {
        "id": "5umO-zhAIjcz"
      },
      "source": [
        "#### Plot clusters on original data scale"
      ]
    },
    {
      "cell_type": "markdown",
      "metadata": {
        "id": "YQKukbIXHLgH"
      },
      "source": [
        "Scale back the centroids to original data representation\n"
      ]
    },
    {
      "cell_type": "code",
      "metadata": {
        "colab": {
          "base_uri": "https://localhost:8080/"
        },
        "id": "FHukPw51Ou8x",
        "outputId": "86cdfb4d-c155-48fe-e5aa-2a58f9f5d974"
      },
      "source": [
        "centroids = scaler.inverse_transform(kmeans.cluster_centers_)\n",
        "centroids"
      ],
      "execution_count": null,
      "outputs": [
        {
          "output_type": "execute_result",
          "data": {
            "text/plain": [
              "array([[ 560.13333333,   50.33333333],\n",
              "       [ 109.15555556,   10.06666667],\n",
              "       [1468.33333333,  170.33333333],\n",
              "       [3560.        ,  300.        ]])"
            ]
          },
          "metadata": {
            "tags": []
          },
          "execution_count": 17
        }
      ]
    },
    {
      "cell_type": "code",
      "metadata": {
        "id": "8wH51MvMH_jU"
      },
      "source": [
        "X1 = florida_df"
      ],
      "execution_count": null,
      "outputs": []
    },
    {
      "cell_type": "code",
      "metadata": {
        "colab": {
          "base_uri": "https://localhost:8080/",
          "height": 527
        },
        "id": "2pigspDMG245",
        "outputId": "a16315da-3286-4d3d-ade8-601b4a3d530a"
      },
      "source": [
        "fig= plt.figure(figsize=(16,8))\n",
        "plt.scatter(X1[X1.Label==0]['Pop_Sq_Mile'], X1[X1.Label==0]['Cases_Sq_Mile'], s=50, c='red', label ='Cluster 1')\n",
        "plt.scatter(X1[X1.Label==1]['Pop_Sq_Mile'], X1[X1.Label==1]['Cases_Sq_Mile'], s=50, c='cyan', label ='Cluster 2')\n",
        "plt.scatter(X1[X1.Label==2]['Pop_Sq_Mile'], X1[X1.Label==2]['Cases_Sq_Mile'], s=50, c='orange', label ='Cluster 3')\n",
        "plt.scatter(X1[X1.Label==3]['Pop_Sq_Mile'], X1[X1.Label==3]['Cases_Sq_Mile'], s=50, c='blue', label ='Cluster 4')\n",
        "plt.scatter(centroids[:, 0], centroids[:, 1], s=300, c='black', label = 'Centroids', marker='*')\n",
        "#plt.xlim(0,4000)\n",
        "#plt.ylim(0,350)\n",
        "plt.title('Clusters of Population Density and COVID-19 Cases\\nFlorida Counties')\n",
        "plt.xlabel('Population Per Square Mile')\n",
        "plt.ylabel('Cases Per Square Mile')\n",
        "plt.legend(loc='upper left')\n",
        "plt.show()"
      ],
      "execution_count": null,
      "outputs": [
        {
          "output_type": "display_data",
          "data": {
            "image/png": "[encoded data removed]",
            "text/plain": [
              "<Figure size 1152x576 with 1 Axes>"
            ]
          },
          "metadata": {
            "tags": [],
            "needs_background": "light"
          }
        }
      ]
    },
    {
      "cell_type": "markdown",
      "metadata": {
        "id": "5wkufBspO6SS"
      },
      "source": [
        "-------------------------"
      ]
    },
    {
      "cell_type": "markdown",
      "metadata": {
        "id": "SXa8i8EqO3Nk"
      },
      "source": [
        "## California"
      ]
    },
    {
      "cell_type": "markdown",
      "metadata": {
        "id": "8KIdn2mxO3Nl"
      },
      "source": [
        "### Filter State/County Data"
      ]
    },
    {
      "cell_type": "code",
      "metadata": {
        "colab": {
          "base_uri": "https://localhost:8080/"
        },
        "id": "LOh9bhLzO3Nl",
        "outputId": "bb4a6227-6705-4700-b94d-7cc05551b2d2"
      },
      "source": [
        "ca_df = df.query(\"`State` == 'California'\")\n",
        "ca_df.shape"
      ],
      "execution_count": null,
      "outputs": [
        {
          "output_type": "execute_result",
          "data": {
            "text/plain": [
              "(58, 17)"
            ]
          },
          "metadata": {
            "tags": []
          },
          "execution_count": 48
        }
      ]
    },
    {
      "cell_type": "markdown",
      "metadata": {
        "id": "EeLYrJShO3Nm"
      },
      "source": [
        "Reference: https://www.thiscodeworks.com/use-sklearn-standardscaler-only-on-certain-feature-columns-python/605cc55c3c8db10014203c0e"
      ]
    },
    {
      "cell_type": "markdown",
      "metadata": {
        "id": "czJ1EXFnO3Nm"
      },
      "source": [
        "### Scale Feature Data"
      ]
    },
    {
      "cell_type": "code",
      "metadata": {
        "colab": {
          "base_uri": "https://localhost:8080/",
          "height": 1000
        },
        "id": "nlDfKyjnO3Nm",
        "outputId": "cfdb9183-8b80-4c01-ddb6-6c83f98c968c"
      },
      "source": [
        "scaled_features = ca_df.copy()\n",
        " \n",
        "col_names = ['Pop_Sq_Mile','Cases_Sq_Mile']\n",
        "features = scaled_features[col_names]\n",
        "scaler = StandardScaler().fit(features.values)\n",
        "features = scaler.transform(features.values)\n",
        " \n",
        "scaled_features[col_names] = features\n",
        "scaled_features[['Pop_Sq_Mile','Cases_Sq_Mile']]"
      ],
      "execution_count": null,
      "outputs": [
        {
          "output_type": "execute_result",
          "data": {
            "text/html": [
              "<div>\n",
              "<style scoped>\n",
              "    .dataframe tbody tr th:only-of-type {\n",
              "        vertical-align: middle;\n",
              "    }\n",
              "\n",
              "    .dataframe tbody tr th {\n",
              "        vertical-align: top;\n",
              "    }\n",
              "\n",
              "    .dataframe thead th {\n",
              "        text-align: right;\n",
              "    }\n",
              "</style>\n",
              "<table border=\"1\" class=\"dataframe\">\n",
              "  <thead>\n",
              "    <tr style=\"text-align: right;\">\n",
              "      <th></th>\n",
              "      <th>Pop_Sq_Mile</th>\n",
              "      <th>Cases_Sq_Mile</th>\n",
              "    </tr>\n",
              "  </thead>\n",
              "  <tbody>\n",
              "    <tr>\n",
              "      <th>184</th>\n",
              "      <td>0.616594</td>\n",
              "      <td>0.650196</td>\n",
              "    </tr>\n",
              "    <tr>\n",
              "      <th>185</th>\n",
              "      <td>-0.284806</td>\n",
              "      <td>-0.377061</td>\n",
              "    </tr>\n",
              "    <tr>\n",
              "      <th>186</th>\n",
              "      <td>-0.258881</td>\n",
              "      <td>-0.326123</td>\n",
              "    </tr>\n",
              "    <tr>\n",
              "      <th>187</th>\n",
              "      <td>-0.232158</td>\n",
              "      <td>-0.317633</td>\n",
              "    </tr>\n",
              "    <tr>\n",
              "      <th>188</th>\n",
              "      <td>-0.267257</td>\n",
              "      <td>-0.360082</td>\n",
              "    </tr>\n",
              "    <tr>\n",
              "      <th>189</th>\n",
              "      <td>-0.278026</td>\n",
              "      <td>-0.368571</td>\n",
              "    </tr>\n",
              "    <tr>\n",
              "      <th>190</th>\n",
              "      <td>0.357342</td>\n",
              "      <td>0.454932</td>\n",
              "    </tr>\n",
              "    <tr>\n",
              "      <th>191</th>\n",
              "      <td>-0.274436</td>\n",
              "      <td>-0.368571</td>\n",
              "    </tr>\n",
              "    <tr>\n",
              "      <th>192</th>\n",
              "      <td>-0.240534</td>\n",
              "      <td>-0.326123</td>\n",
              "    </tr>\n",
              "    <tr>\n",
              "      <th>193</th>\n",
              "      <td>-0.218597</td>\n",
              "      <td>-0.232736</td>\n",
              "    </tr>\n",
              "    <tr>\n",
              "      <th>194</th>\n",
              "      <td>-0.276829</td>\n",
              "      <td>-0.368571</td>\n",
              "    </tr>\n",
              "    <tr>\n",
              "      <th>195</th>\n",
              "      <td>-0.270447</td>\n",
              "      <td>-0.368571</td>\n",
              "    </tr>\n",
              "    <tr>\n",
              "      <th>196</th>\n",
              "      <td>-0.268054</td>\n",
              "      <td>-0.326123</td>\n",
              "    </tr>\n",
              "    <tr>\n",
              "      <th>197</th>\n",
              "      <td>-0.284806</td>\n",
              "      <td>-0.377061</td>\n",
              "    </tr>\n",
              "    <tr>\n",
              "      <th>198</th>\n",
              "      <td>-0.241331</td>\n",
              "      <td>-0.266695</td>\n",
              "    </tr>\n",
              "    <tr>\n",
              "      <th>199</th>\n",
              "      <td>-0.241331</td>\n",
              "      <td>-0.241225</td>\n",
              "    </tr>\n",
              "    <tr>\n",
              "      <th>200</th>\n",
              "      <td>-0.264863</td>\n",
              "      <td>-0.360082</td>\n",
              "    </tr>\n",
              "    <tr>\n",
              "      <th>201</th>\n",
              "      <td>-0.282812</td>\n",
              "      <td>-0.368571</td>\n",
              "    </tr>\n",
              "    <tr>\n",
              "      <th>202</th>\n",
              "      <td>0.701150</td>\n",
              "      <td>2.229285</td>\n",
              "    </tr>\n",
              "    <tr>\n",
              "      <th>203</th>\n",
              "      <td>-0.256089</td>\n",
              "      <td>-0.317633</td>\n",
              "    </tr>\n",
              "    <tr>\n",
              "      <th>204</th>\n",
              "      <td>-0.086977</td>\n",
              "      <td>-0.147838</td>\n",
              "    </tr>\n",
              "    <tr>\n",
              "      <th>205</th>\n",
              "      <td>-0.280817</td>\n",
              "      <td>-0.377061</td>\n",
              "    </tr>\n",
              "    <tr>\n",
              "      <th>206</th>\n",
              "      <td>-0.275632</td>\n",
              "      <td>-0.368571</td>\n",
              "    </tr>\n",
              "    <tr>\n",
              "      <th>207</th>\n",
              "      <td>-0.228169</td>\n",
              "      <td>-0.241225</td>\n",
              "    </tr>\n",
              "    <tr>\n",
              "      <th>208</th>\n",
              "      <td>-0.284407</td>\n",
              "      <td>-0.377061</td>\n",
              "    </tr>\n",
              "    <tr>\n",
              "      <th>209</th>\n",
              "      <td>-0.283609</td>\n",
              "      <td>-0.377061</td>\n",
              "    </tr>\n",
              "    <tr>\n",
              "      <th>210</th>\n",
              "      <td>-0.232557</td>\n",
              "      <td>-0.266695</td>\n",
              "    </tr>\n",
              "    <tr>\n",
              "      <th>211</th>\n",
              "      <td>-0.211817</td>\n",
              "      <td>-0.266695</td>\n",
              "    </tr>\n",
              "    <tr>\n",
              "      <th>212</th>\n",
              "      <td>-0.243724</td>\n",
              "      <td>-0.334612</td>\n",
              "    </tr>\n",
              "    <tr>\n",
              "      <th>213</th>\n",
              "      <td>1.316574</td>\n",
              "      <td>2.551895</td>\n",
              "    </tr>\n",
              "    <tr>\n",
              "      <th>214</th>\n",
              "      <td>-0.172330</td>\n",
              "      <td>-0.241225</td>\n",
              "    </tr>\n",
              "    <tr>\n",
              "      <th>215</th>\n",
              "      <td>-0.282413</td>\n",
              "      <td>-0.377061</td>\n",
              "    </tr>\n",
              "    <tr>\n",
              "      <th>216</th>\n",
              "      <td>-0.148798</td>\n",
              "      <td>-0.028982</td>\n",
              "    </tr>\n",
              "    <tr>\n",
              "      <th>217</th>\n",
              "      <td>0.356145</td>\n",
              "      <td>0.565299</td>\n",
              "    </tr>\n",
              "    <tr>\n",
              "      <th>218</th>\n",
              "      <td>-0.267257</td>\n",
              "      <td>-0.343102</td>\n",
              "    </tr>\n",
              "    <tr>\n",
              "      <th>219</th>\n",
              "      <td>-0.242129</td>\n",
              "      <td>-0.258205</td>\n",
              "    </tr>\n",
              "    <tr>\n",
              "      <th>220</th>\n",
              "      <td>0.031083</td>\n",
              "      <td>0.191751</td>\n",
              "    </tr>\n",
              "    <tr>\n",
              "      <th>221</th>\n",
              "      <td>7.216354</td>\n",
              "      <td>6.372272</td>\n",
              "    </tr>\n",
              "    <tr>\n",
              "      <th>222</th>\n",
              "      <td>-0.067034</td>\n",
              "      <td>0.072895</td>\n",
              "    </tr>\n",
              "    <tr>\n",
              "      <th>223</th>\n",
              "      <td>-0.251303</td>\n",
              "      <td>-0.326123</td>\n",
              "    </tr>\n",
              "    <tr>\n",
              "      <th>224</th>\n",
              "      <td>0.396429</td>\n",
              "      <td>0.429463</td>\n",
              "    </tr>\n",
              "    <tr>\n",
              "      <th>225</th>\n",
              "      <td>-0.220192</td>\n",
              "      <td>-0.275184</td>\n",
              "    </tr>\n",
              "    <tr>\n",
              "      <th>226</th>\n",
              "      <td>0.310676</td>\n",
              "      <td>0.412484</td>\n",
              "    </tr>\n",
              "    <tr>\n",
              "      <th>227</th>\n",
              "      <td>-0.040710</td>\n",
              "      <td>-0.071431</td>\n",
              "    </tr>\n",
              "    <tr>\n",
              "      <th>228</th>\n",
              "      <td>-0.266459</td>\n",
              "      <td>-0.351592</td>\n",
              "    </tr>\n",
              "    <tr>\n",
              "      <th>229</th>\n",
              "      <td>-0.284008</td>\n",
              "      <td>-0.377061</td>\n",
              "    </tr>\n",
              "    <tr>\n",
              "      <th>230</th>\n",
              "      <td>-0.282812</td>\n",
              "      <td>-0.377061</td>\n",
              "    </tr>\n",
              "    <tr>\n",
              "      <th>231</th>\n",
              "      <td>-0.068231</td>\n",
              "      <td>-0.028982</td>\n",
              "    </tr>\n",
              "    <tr>\n",
              "      <th>232</th>\n",
              "      <td>-0.160365</td>\n",
              "      <td>-0.215756</td>\n",
              "    </tr>\n",
              "    <tr>\n",
              "      <th>233</th>\n",
              "      <td>-0.138428</td>\n",
              "      <td>-0.020492</td>\n",
              "    </tr>\n",
              "    <tr>\n",
              "      <th>234</th>\n",
              "      <td>-0.221389</td>\n",
              "      <td>-0.241225</td>\n",
              "    </tr>\n",
              "    <tr>\n",
              "      <th>235</th>\n",
              "      <td>-0.276430</td>\n",
              "      <td>-0.368571</td>\n",
              "    </tr>\n",
              "    <tr>\n",
              "      <th>236</th>\n",
              "      <td>-0.284008</td>\n",
              "      <td>-0.377061</td>\n",
              "    </tr>\n",
              "    <tr>\n",
              "      <th>237</th>\n",
              "      <td>-0.246915</td>\n",
              "      <td>-0.292164</td>\n",
              "    </tr>\n",
              "    <tr>\n",
              "      <th>238</th>\n",
              "      <td>-0.275632</td>\n",
              "      <td>-0.368571</td>\n",
              "    </tr>\n",
              "    <tr>\n",
              "      <th>239</th>\n",
              "      <td>-0.102133</td>\n",
              "      <td>-0.003513</td>\n",
              "    </tr>\n",
              "    <tr>\n",
              "      <th>240</th>\n",
              "      <td>-0.198654</td>\n",
              "      <td>-0.266695</td>\n",
              "    </tr>\n",
              "    <tr>\n",
              "      <th>241</th>\n",
              "      <td>-0.235747</td>\n",
              "      <td>-0.292164</td>\n",
              "    </tr>\n",
              "  </tbody>\n",
              "</table>\n",
              "</div>"
            ],
            "text/plain": [
              "     Pop_Sq_Mile  Cases_Sq_Mile\n",
              "184     0.616594       0.650196\n",
              "185    -0.284806      -0.377061\n",
              "186    -0.258881      -0.326123\n",
              "187    -0.232158      -0.317633\n",
              "188    -0.267257      -0.360082\n",
              "189    -0.278026      -0.368571\n",
              "190     0.357342       0.454932\n",
              "191    -0.274436      -0.368571\n",
              "192    -0.240534      -0.326123\n",
              "193    -0.218597      -0.232736\n",
              "194    -0.276829      -0.368571\n",
              "195    -0.270447      -0.368571\n",
              "196    -0.268054      -0.326123\n",
              "197    -0.284806      -0.377061\n",
              "198    -0.241331      -0.266695\n",
              "199    -0.241331      -0.241225\n",
              "200    -0.264863      -0.360082\n",
              "201    -0.282812      -0.368571\n",
              "202     0.701150       2.229285\n",
              "203    -0.256089      -0.317633\n",
              "204    -0.086977      -0.147838\n",
              "205    -0.280817      -0.377061\n",
              "206    -0.275632      -0.368571\n",
              "207    -0.228169      -0.241225\n",
              "208    -0.284407      -0.377061\n",
              "209    -0.283609      -0.377061\n",
              "210    -0.232557      -0.266695\n",
              "211    -0.211817      -0.266695\n",
              "212    -0.243724      -0.334612\n",
              "213     1.316574       2.551895\n",
              "214    -0.172330      -0.241225\n",
              "215    -0.282413      -0.377061\n",
              "216    -0.148798      -0.028982\n",
              "217     0.356145       0.565299\n",
              "218    -0.267257      -0.343102\n",
              "219    -0.242129      -0.258205\n",
              "220     0.031083       0.191751\n",
              "221     7.216354       6.372272\n",
              "222    -0.067034       0.072895\n",
              "223    -0.251303      -0.326123\n",
              "224     0.396429       0.429463\n",
              "225    -0.220192      -0.275184\n",
              "226     0.310676       0.412484\n",
              "227    -0.040710      -0.071431\n",
              "228    -0.266459      -0.351592\n",
              "229    -0.284008      -0.377061\n",
              "230    -0.282812      -0.377061\n",
              "231    -0.068231      -0.028982\n",
              "232    -0.160365      -0.215756\n",
              "233    -0.138428      -0.020492\n",
              "234    -0.221389      -0.241225\n",
              "235    -0.276430      -0.368571\n",
              "236    -0.284008      -0.377061\n",
              "237    -0.246915      -0.292164\n",
              "238    -0.275632      -0.368571\n",
              "239    -0.102133      -0.003513\n",
              "240    -0.198654      -0.266695\n",
              "241    -0.235747      -0.292164"
            ]
          },
          "metadata": {
            "tags": []
          },
          "execution_count": 49
        }
      ]
    },
    {
      "cell_type": "markdown",
      "metadata": {
        "id": "M9Xmfl_7O3Nm"
      },
      "source": [
        "### Determine Optimal Clusters (Elbow Method)"
      ]
    },
    {
      "cell_type": "code",
      "metadata": {
        "id": "6qvrcXUHO3Nm"
      },
      "source": [
        "X = scaled_features[['Pop_Sq_Mile','Cases_Sq_Mile']]"
      ],
      "execution_count": null,
      "outputs": []
    },
    {
      "cell_type": "markdown",
      "metadata": {
        "id": "l--HIFFOO3Nn"
      },
      "source": [
        "Reference: https://medium.com/pursuitnotes/k-means-clustering-model-in-6-steps-with-python-35b532cfa8ad"
      ]
    },
    {
      "cell_type": "code",
      "metadata": {
        "colab": {
          "base_uri": "https://localhost:8080/",
          "height": 512
        },
        "id": "QVKsLzmvO3Nn",
        "outputId": "976f4284-065e-4363-e083-3e7a81fed898"
      },
      "source": [
        "# Using the elbow method to find out the optimal number of clusters. \n",
        "wcss=[]\n",
        "\n",
        "# Loop ten times to:\n",
        "#  - fit the k-means algorithm to data \n",
        "#  - use kmean++ random initialization method \n",
        "#  - allow for a maximum of 300 iterations to find final clusters \n",
        "#  - run the algorithm for 10 different initial centroids \n",
        "for i in range(1,11):\n",
        "    kmeans = KMeans(n_clusters=i, init ='k-means++', max_iter=300,  n_init=10, random_state=0)\n",
        "    kmeans.fit(X)\n",
        "\n",
        "    # Compute the WCSS (within cluster sum of squares) and append it to a WCSS list.\n",
        "    wcss.append(kmeans.inertia_)\n",
        "\n",
        "# Plot the elbow graph using the WCSS list.\n",
        "fig= plt.figure(figsize=(16,8))\n",
        "plt.plot(range(1,11),wcss)\n",
        "plt.title('The Elbow Method Graph')\n",
        "plt.xlabel('Number of clusters')\n",
        "plt.ylabel('WCSS')\n",
        "plt.show()"
      ],
      "execution_count": null,
      "outputs": [
        {
          "output_type": "display_data",
          "data": {
            "image/png": "[encoded data removed]",
            "text/plain": [
              "<Figure size 1152x576 with 1 Axes>"
            ]
          },
          "metadata": {
            "tags": [],
            "needs_background": "light"
          }
        }
      ]
    },
    {
      "cell_type": "markdown",
      "metadata": {
        "id": "RnQhJR57O3Nn"
      },
      "source": [
        "***Three (3) clusters seems to be the optimum number of clusters because that is where the elbow curves***"
      ]
    },
    {
      "cell_type": "markdown",
      "metadata": {
        "id": "wY-fbXV7O3Nn"
      },
      "source": [
        "### Run Optimal K-Means"
      ]
    },
    {
      "cell_type": "markdown",
      "metadata": {
        "id": "4tVpkTlcO3No"
      },
      "source": [
        "Create and fit the optimal K-Means cluster model"
      ]
    },
    {
      "cell_type": "code",
      "metadata": {
        "colab": {
          "base_uri": "https://localhost:8080/"
        },
        "id": "31VI5H_wO3No",
        "outputId": "1a45021c-941a-4929-9f5c-bfdb8b6d0b5a"
      },
      "source": [
        "kmeans = KMeans(n_clusters=3, init ='k-means++', max_iter=300, n_init=10, random_state=0 )\n",
        "kmeans.fit(X)"
      ],
      "execution_count": null,
      "outputs": [
        {
          "output_type": "execute_result",
          "data": {
            "text/plain": [
              "KMeans(algorithm='auto', copy_x=True, init='k-means++', max_iter=300,\n",
              "       n_clusters=3, n_init=10, n_jobs=None, precompute_distances='auto',\n",
              "       random_state=0, tol=0.0001, verbose=0)"
            ]
          },
          "metadata": {
            "tags": []
          },
          "execution_count": 53
        }
      ]
    },
    {
      "cell_type": "code",
      "metadata": {
        "colab": {
          "base_uri": "https://localhost:8080/"
        },
        "id": "TIC6SLERO3No",
        "outputId": "2453dd4b-ea9f-4ff7-88ba-9e00a8e12d37"
      },
      "source": [
        "# The number of iterations required to converge\n",
        "kmeans.n_iter_"
      ],
      "execution_count": null,
      "outputs": [
        {
          "output_type": "execute_result",
          "data": {
            "text/plain": [
              "2"
            ]
          },
          "metadata": {
            "tags": []
          },
          "execution_count": 54
        }
      ]
    },
    {
      "cell_type": "markdown",
      "metadata": {
        "id": "mvqXNwM2O3No"
      },
      "source": [
        "Fit and predict the cluster labels"
      ]
    },
    {
      "cell_type": "code",
      "metadata": {
        "colab": {
          "base_uri": "https://localhost:8080/"
        },
        "id": "pQTYk7TyO3No",
        "outputId": "f99f0e7d-4b4c-4fd0-9cec-ee7679ffa36b"
      },
      "source": [
        "labels = kmeans.fit_predict(X)\n",
        "Counter(labels)"
      ],
      "execution_count": null,
      "outputs": [
        {
          "output_type": "execute_result",
          "data": {
            "text/plain": [
              "Counter({0: 55, 1: 1, 2: 2})"
            ]
          },
          "metadata": {
            "tags": []
          },
          "execution_count": 55
        }
      ]
    },
    {
      "cell_type": "code",
      "metadata": {
        "colab": {
          "base_uri": "https://localhost:8080/"
        },
        "id": "KDikUz97O3Np",
        "outputId": "5a2d5087-5c6f-485a-f8c1-36ed31ae6157"
      },
      "source": [
        "X['Label'] = labels"
      ],
      "execution_count": null,
      "outputs": [
        {
          "output_type": "stream",
          "text": [
            "/usr/local/lib/python3.7/dist-packages/ipykernel_launcher.py:1: SettingWithCopyWarning: \n",
            "A value is trying to be set on a copy of a slice from a DataFrame.\n",
            "Try using .loc[row_indexer,col_indexer] = value instead\n",
            "\n",
            "See the caveats in the documentation: https://pandas.pydata.org/pandas-docs/stable/user_guide/indexing.html#returning-a-view-versus-a-copy\n",
            "  \"\"\"Entry point for launching an IPython kernel.\n"
          ],
          "name": "stderr"
        }
      ]
    },
    {
      "cell_type": "markdown",
      "metadata": {
        "id": "_rFR8cZyO3Np"
      },
      "source": [
        "Look at centroids"
      ]
    },
    {
      "cell_type": "code",
      "metadata": {
        "colab": {
          "base_uri": "https://localhost:8080/"
        },
        "id": "KCxzjiC8O3Np",
        "outputId": "9a0d0ab8-a04c-4f7e-cd16-56fc4d603e12"
      },
      "source": [
        "kmeans.cluster_centers_"
      ],
      "execution_count": null,
      "outputs": [
        {
          "output_type": "execute_result",
          "data": {
            "text/plain": [
              "array([[-0.16789232, -0.20279004],\n",
              "       [ 7.21635383,  6.3722722 ],\n",
              "       [ 1.00886193,  2.3905901 ]])"
            ]
          },
          "metadata": {
            "tags": []
          },
          "execution_count": 57
        }
      ]
    },
    {
      "cell_type": "code",
      "metadata": {
        "colab": {
          "base_uri": "https://localhost:8080/",
          "height": 108
        },
        "id": "ZEJMC5BeO3Np",
        "outputId": "773d831d-4fa7-4dd9-833f-205f9292693b"
      },
      "source": [
        "X[X.Label==2][['Pop_Sq_Mile','Cases_Sq_Mile']]"
      ],
      "execution_count": null,
      "outputs": [
        {
          "output_type": "execute_result",
          "data": {
            "text/html": [
              "<div>\n",
              "<style scoped>\n",
              "    .dataframe tbody tr th:only-of-type {\n",
              "        vertical-align: middle;\n",
              "    }\n",
              "\n",
              "    .dataframe tbody tr th {\n",
              "        vertical-align: top;\n",
              "    }\n",
              "\n",
              "    .dataframe thead th {\n",
              "        text-align: right;\n",
              "    }\n",
              "</style>\n",
              "<table border=\"1\" class=\"dataframe\">\n",
              "  <thead>\n",
              "    <tr style=\"text-align: right;\">\n",
              "      <th></th>\n",
              "      <th>Pop_Sq_Mile</th>\n",
              "      <th>Cases_Sq_Mile</th>\n",
              "    </tr>\n",
              "  </thead>\n",
              "  <tbody>\n",
              "    <tr>\n",
              "      <th>202</th>\n",
              "      <td>0.701150</td>\n",
              "      <td>2.229285</td>\n",
              "    </tr>\n",
              "    <tr>\n",
              "      <th>213</th>\n",
              "      <td>1.316574</td>\n",
              "      <td>2.551895</td>\n",
              "    </tr>\n",
              "  </tbody>\n",
              "</table>\n",
              "</div>"
            ],
            "text/plain": [
              "     Pop_Sq_Mile  Cases_Sq_Mile\n",
              "202     0.701150       2.229285\n",
              "213     1.316574       2.551895"
            ]
          },
          "metadata": {
            "tags": []
          },
          "execution_count": 58
        }
      ]
    },
    {
      "cell_type": "markdown",
      "metadata": {
        "id": "yCNCNFanO3Nq"
      },
      "source": [
        "### Scatter Plot Cluster Results"
      ]
    },
    {
      "cell_type": "markdown",
      "metadata": {
        "id": "LxIxV9M8O3Nq"
      },
      "source": [
        "#### Plot scaled data cluster "
      ]
    },
    {
      "cell_type": "code",
      "metadata": {
        "colab": {
          "base_uri": "https://localhost:8080/",
          "height": 527
        },
        "id": "gkpy2qUdO3Nq",
        "outputId": "34d5a220-bead-4e53-ab82-227cd50fab48"
      },
      "source": [
        "fig= plt.figure(figsize=(16,8))\n",
        "plt.scatter(X[X.Label==0]['Pop_Sq_Mile'], X[X.Label==0]['Cases_Sq_Mile'], s=50, c='red', label ='Cluster 1')\n",
        "plt.scatter(X[X.Label==1]['Pop_Sq_Mile'], X[X.Label==1]['Cases_Sq_Mile'], s=50, c='cyan', label ='Cluster 2')\n",
        "plt.scatter(X[X.Label==2]['Pop_Sq_Mile'], X[X.Label==2]['Cases_Sq_Mile'], s=50, c='orange', label ='Cluster 3')\n",
        "#plt.scatter(X[X.Label==3]['Pop_Sq_Mile'], X[X.Label==3]['Cases_Sq_Mile'], s=50, c='blue', label ='Cluster 4')\n",
        "plt.scatter(kmeans.cluster_centers_[:, 0], kmeans.cluster_centers_[:, 1], s=300, c='black', label = 'Centroids', marker='*')\n",
        "#plt.xlim(0,4000)\n",
        "#plt.ylim(0,350)\n",
        "plt.title('Clusters of Population Density and COVID-19 Cases\\nCalifornia Counties')\n",
        "plt.xlabel('Population Per Square Mile')\n",
        "plt.ylabel('Cases Per Square Mile')\n",
        "plt.legend(loc='upper left')\n",
        "plt.show()"
      ],
      "execution_count": null,
      "outputs": [
        {
          "output_type": "display_data",
          "data": {
            "image/png": "[encoded data removed]",
            "text/plain": [
              "<Figure size 1152x576 with 1 Axes>"
            ]
          },
          "metadata": {
            "tags": [],
            "needs_background": "light"
          }
        }
      ]
    },
    {
      "cell_type": "code",
      "metadata": {
        "colab": {
          "base_uri": "https://localhost:8080/",
          "height": 236
        },
        "id": "q1W9z1aeO3Nq",
        "outputId": "c83bdf5a-7d60-4ec6-e5de-5fa2c3e93a72"
      },
      "source": [
        "ca_df['Label'] = labels\n",
        "ca_df[['County','Pop_Sq_Mile','Cases_Sq_Mile','Label']].head(3)"
      ],
      "execution_count": null,
      "outputs": [
        {
          "output_type": "stream",
          "text": [
            "/usr/local/lib/python3.7/dist-packages/ipykernel_launcher.py:1: SettingWithCopyWarning: \n",
            "A value is trying to be set on a copy of a slice from a DataFrame.\n",
            "Try using .loc[row_indexer,col_indexer] = value instead\n",
            "\n",
            "See the caveats in the documentation: https://pandas.pydata.org/pandas-docs/stable/user_guide/indexing.html#returning-a-view-versus-a-copy\n",
            "  \"\"\"Entry point for launching an IPython kernel.\n"
          ],
          "name": "stderr"
        },
        {
          "output_type": "execute_result",
          "data": {
            "text/html": [
              "<div>\n",
              "<style scoped>\n",
              "    .dataframe tbody tr th:only-of-type {\n",
              "        vertical-align: middle;\n",
              "    }\n",
              "\n",
              "    .dataframe tbody tr th {\n",
              "        vertical-align: top;\n",
              "    }\n",
              "\n",
              "    .dataframe thead th {\n",
              "        text-align: right;\n",
              "    }\n",
              "</style>\n",
              "<table border=\"1\" class=\"dataframe\">\n",
              "  <thead>\n",
              "    <tr style=\"text-align: right;\">\n",
              "      <th></th>\n",
              "      <th>County</th>\n",
              "      <th>Pop_Sq_Mile</th>\n",
              "      <th>Cases_Sq_Mile</th>\n",
              "      <th>Label</th>\n",
              "    </tr>\n",
              "  </thead>\n",
              "  <tbody>\n",
              "    <tr>\n",
              "      <th>184</th>\n",
              "      <td>Alameda County</td>\n",
              "      <td>2261</td>\n",
              "      <td>121</td>\n",
              "      <td>0</td>\n",
              "    </tr>\n",
              "    <tr>\n",
              "      <th>185</th>\n",
              "      <td>Alpine County</td>\n",
              "      <td>1</td>\n",
              "      <td>0</td>\n",
              "      <td>0</td>\n",
              "    </tr>\n",
              "    <tr>\n",
              "      <th>186</th>\n",
              "      <td>Amador County</td>\n",
              "      <td>66</td>\n",
              "      <td>6</td>\n",
              "      <td>0</td>\n",
              "    </tr>\n",
              "  </tbody>\n",
              "</table>\n",
              "</div>"
            ],
            "text/plain": [
              "             County  Pop_Sq_Mile  Cases_Sq_Mile  Label\n",
              "184  Alameda County         2261            121      0\n",
              "185   Alpine County            1              0      0\n",
              "186   Amador County           66              6      0"
            ]
          },
          "metadata": {
            "tags": []
          },
          "execution_count": 60
        }
      ]
    },
    {
      "cell_type": "markdown",
      "metadata": {
        "id": "tub96cxTO3Nq"
      },
      "source": [
        "#### Plot clusters on original data scale"
      ]
    },
    {
      "cell_type": "markdown",
      "metadata": {
        "id": "lia-14XzO3Nr"
      },
      "source": [
        "Scale back the centroids to original data representation\n"
      ]
    },
    {
      "cell_type": "code",
      "metadata": {
        "colab": {
          "base_uri": "https://localhost:8080/"
        },
        "id": "qzaIMiNqO3Nr",
        "outputId": "0e165ff3-3cd9-4a4e-8e9e-6a70e6853fd2"
      },
      "source": [
        "centroids = scaler.inverse_transform(kmeans.cluster_centers_)\n",
        "centroids"
      ],
      "execution_count": null,
      "outputs": [
        {
          "output_type": "execute_result",
          "data": {
            "text/plain": [
              "array([[  294.12727273,    20.52727273],\n",
              "       [18808.        ,   795.        ],\n",
              "       [ 3244.5       ,   326.        ]])"
            ]
          },
          "metadata": {
            "tags": []
          },
          "execution_count": 61
        }
      ]
    },
    {
      "cell_type": "code",
      "metadata": {
        "id": "W6GFlOi2O3Nr"
      },
      "source": [
        "X1 = ca_df"
      ],
      "execution_count": null,
      "outputs": []
    },
    {
      "cell_type": "code",
      "metadata": {
        "colab": {
          "base_uri": "https://localhost:8080/",
          "height": 527
        },
        "id": "B6IxAWcJO3Nr",
        "outputId": "4e762bb6-45e0-4ec9-b0ae-9e0219f40a69"
      },
      "source": [
        "fig= plt.figure(figsize=(16,8))\n",
        "plt.scatter(X1[X1.Label==0]['Pop_Sq_Mile'], X1[X1.Label==0]['Cases_Sq_Mile'], s=50, c='red', label ='Cluster 1')\n",
        "plt.scatter(X1[X1.Label==1]['Pop_Sq_Mile'], X1[X1.Label==1]['Cases_Sq_Mile'], s=50, c='cyan', label ='Cluster 2')\n",
        "plt.scatter(X1[X1.Label==2]['Pop_Sq_Mile'], X1[X1.Label==2]['Cases_Sq_Mile'], s=50, c='orange', label ='Cluster 3')\n",
        "plt.scatter(X1[X1.Label==3]['Pop_Sq_Mile'], X1[X1.Label==3]['Cases_Sq_Mile'], s=50, c='blue', label ='Cluster 4')\n",
        "plt.scatter(centroids[:, 0], centroids[:, 1], s=300, c='black', label = 'Centroids', marker='*')\n",
        "plt.title('Clusters of Population Density and COVID-19 Cases\\nCalifornia Counties')\n",
        "plt.xlabel('Population Per Square Mile')\n",
        "plt.ylabel('Cases Per Square Mile')\n",
        "plt.legend(loc='upper left')\n",
        "plt.show()"
      ],
      "execution_count": null,
      "outputs": [
        {
          "output_type": "display_data",
          "data": {
            "image/png": "[encoded data removed]",
            "text/plain": [
              "<Figure size 1152x576 with 1 Axes>"
            ]
          },
          "metadata": {
            "tags": [],
            "needs_background": "light"
          }
        }
      ]
    },
    {
      "cell_type": "markdown",
      "metadata": {
        "id": "gEzWAraRSDO6"
      },
      "source": [
        "---------"
      ]
    },
    {
      "cell_type": "markdown",
      "metadata": {
        "id": "QUwArUsaSFE2"
      },
      "source": [
        "## California and Florida"
      ]
    },
    {
      "cell_type": "markdown",
      "metadata": {
        "id": "TF4UgY39q2F4"
      },
      "source": [
        "Perform combined data clustering since there were different optimum K values for separated Florida and California data.  "
      ]
    },
    {
      "cell_type": "markdown",
      "metadata": {
        "id": "ORgPSG4DSFE2"
      },
      "source": [
        "### Filter State/County Data"
      ]
    },
    {
      "cell_type": "code",
      "metadata": {
        "colab": {
          "base_uri": "https://localhost:8080/"
        },
        "id": "JTpasNrPSFE2",
        "outputId": "137c9c80-0ba2-4d4f-e837-5b0c6de2b29a"
      },
      "source": [
        "cafl_df = df[(df['State'] == 'California') | (df['State'] == 'Florida')]\n",
        "cafl_df.shape"
      ],
      "execution_count": 67,
      "outputs": [
        {
          "output_type": "execute_result",
          "data": {
            "text/plain": [
              "(125, 17)"
            ]
          },
          "metadata": {
            "tags": []
          },
          "execution_count": 67
        }
      ]
    },
    {
      "cell_type": "markdown",
      "metadata": {
        "id": "-6NwwlI6SFE3"
      },
      "source": [
        "Reference: https://www.thiscodeworks.com/use-sklearn-standardscaler-only-on-certain-feature-columns-python/605cc55c3c8db10014203c0e"
      ]
    },
    {
      "cell_type": "markdown",
      "metadata": {
        "id": "uRfmwDApSFE3"
      },
      "source": [
        "### Scale Feature Data"
      ]
    },
    {
      "cell_type": "code",
      "metadata": {
        "colab": {
          "base_uri": "https://localhost:8080/",
          "height": 351
        },
        "id": "YBFD8LEuSFE3",
        "outputId": "57a4a47b-b31e-4e67-89f3-57985b78d320"
      },
      "source": [
        "scaled_features = cafl_df.copy()\n",
        " \n",
        "col_names = ['Pop_Sq_Mile','Cases_Sq_Mile']\n",
        "features = scaled_features[col_names]\n",
        "scaler = StandardScaler().fit(features.values)\n",
        "features = scaler.transform(features.values)\n",
        " \n",
        "scaled_features[col_names] = features\n",
        "scaled_features[['Pop_Sq_Mile','Cases_Sq_Mile']][:10] # Show 10"
      ],
      "execution_count": 68,
      "outputs": [
        {
          "output_type": "execute_result",
          "data": {
            "text/html": [
              "<div>\n",
              "<style scoped>\n",
              "    .dataframe tbody tr th:only-of-type {\n",
              "        vertical-align: middle;\n",
              "    }\n",
              "\n",
              "    .dataframe tbody tr th {\n",
              "        vertical-align: top;\n",
              "    }\n",
              "\n",
              "    .dataframe thead th {\n",
              "        text-align: right;\n",
              "    }\n",
              "</style>\n",
              "<table border=\"1\" class=\"dataframe\">\n",
              "  <thead>\n",
              "    <tr style=\"text-align: right;\">\n",
              "      <th></th>\n",
              "      <th>Pop_Sq_Mile</th>\n",
              "      <th>Cases_Sq_Mile</th>\n",
              "    </tr>\n",
              "  </thead>\n",
              "  <tbody>\n",
              "    <tr>\n",
              "      <th>184</th>\n",
              "      <td>0.975903</td>\n",
              "      <td>0.878615</td>\n",
              "    </tr>\n",
              "    <tr>\n",
              "      <th>185</th>\n",
              "      <td>-0.303609</td>\n",
              "      <td>-0.447770</td>\n",
              "    </tr>\n",
              "    <tr>\n",
              "      <th>186</th>\n",
              "      <td>-0.266809</td>\n",
              "      <td>-0.381999</td>\n",
              "    </tr>\n",
              "    <tr>\n",
              "      <th>187</th>\n",
              "      <td>-0.228876</td>\n",
              "      <td>-0.371037</td>\n",
              "    </tr>\n",
              "    <tr>\n",
              "      <th>188</th>\n",
              "      <td>-0.278698</td>\n",
              "      <td>-0.425847</td>\n",
              "    </tr>\n",
              "    <tr>\n",
              "      <th>189</th>\n",
              "      <td>-0.293984</td>\n",
              "      <td>-0.436808</td>\n",
              "    </tr>\n",
              "    <tr>\n",
              "      <th>190</th>\n",
              "      <td>0.607902</td>\n",
              "      <td>0.626493</td>\n",
              "    </tr>\n",
              "    <tr>\n",
              "      <th>191</th>\n",
              "      <td>-0.288889</td>\n",
              "      <td>-0.436808</td>\n",
              "    </tr>\n",
              "    <tr>\n",
              "      <th>192</th>\n",
              "      <td>-0.240766</td>\n",
              "      <td>-0.381999</td>\n",
              "    </tr>\n",
              "    <tr>\n",
              "      <th>193</th>\n",
              "      <td>-0.209627</td>\n",
              "      <td>-0.261419</td>\n",
              "    </tr>\n",
              "  </tbody>\n",
              "</table>\n",
              "</div>"
            ],
            "text/plain": [
              "     Pop_Sq_Mile  Cases_Sq_Mile\n",
              "184     0.975903       0.878615\n",
              "185    -0.303609      -0.447770\n",
              "186    -0.266809      -0.381999\n",
              "187    -0.228876      -0.371037\n",
              "188    -0.278698      -0.425847\n",
              "189    -0.293984      -0.436808\n",
              "190     0.607902       0.626493\n",
              "191    -0.288889      -0.436808\n",
              "192    -0.240766      -0.381999\n",
              "193    -0.209627      -0.261419"
            ]
          },
          "metadata": {
            "tags": []
          },
          "execution_count": 68
        }
      ]
    },
    {
      "cell_type": "markdown",
      "metadata": {
        "id": "0Uq-i-xrSFE3"
      },
      "source": [
        "### Determine Optimal Clusters (Elbow Method)"
      ]
    },
    {
      "cell_type": "code",
      "metadata": {
        "id": "C4DnwRrFSFE3"
      },
      "source": [
        "X = scaled_features[['Pop_Sq_Mile','Cases_Sq_Mile']]"
      ],
      "execution_count": 88,
      "outputs": []
    },
    {
      "cell_type": "markdown",
      "metadata": {
        "id": "ue3LlSIxSFE4"
      },
      "source": [
        "Reference: https://medium.com/pursuitnotes/k-means-clustering-model-in-6-steps-with-python-35b532cfa8ad"
      ]
    },
    {
      "cell_type": "code",
      "metadata": {
        "colab": {
          "base_uri": "https://localhost:8080/",
          "height": 512
        },
        "id": "QcpxIR--SFE4",
        "outputId": "865bf6e2-d3f1-4aa4-a334-31db2394f2f4"
      },
      "source": [
        "# Using the elbow method to find out the optimal number of clusters. \n",
        "wcss=[]\n",
        "\n",
        "# Loop ten times to:\n",
        "#  - fit the k-means algorithm to data \n",
        "#  - use kmean++ random initialization method \n",
        "#  - allow for a maximum of 300 iterations to find final clusters \n",
        "#  - run the algorithm for 10 different initial centroids \n",
        "for i in range(1,11):\n",
        "    kmeans = KMeans(n_clusters=i, init ='k-means++', max_iter=300,  n_init=10, random_state=0)\n",
        "    kmeans.fit(X)\n",
        "\n",
        "    # Compute the WCSS (within cluster sum of squares) and append it to a WCSS list.\n",
        "    wcss.append(kmeans.inertia_)\n",
        "\n",
        "# Plot the elbow graph using the WCSS list.\n",
        "fig= plt.figure(figsize=(16,8))\n",
        "plt.plot(range(1,11),wcss)\n",
        "plt.title('The Elbow Method Graph')\n",
        "plt.xlabel('Number of clusters')\n",
        "plt.ylabel('WCSS')\n",
        "plt.show()"
      ],
      "execution_count": 89,
      "outputs": [
        {
          "output_type": "display_data",
          "data": {
            "image/png": "[encoded data removed]",
            "text/plain": [
              "<Figure size 1152x576 with 1 Axes>"
            ]
          },
          "metadata": {
            "tags": [],
            "needs_background": "light"
          }
        }
      ]
    },
    {
      "cell_type": "markdown",
      "metadata": {
        "id": "a102CK_WSFE4"
      },
      "source": [
        "***Four (4) clusters seems to be the optimum number of clusters because that is where the elbow curves***"
      ]
    },
    {
      "cell_type": "markdown",
      "metadata": {
        "id": "5n-JvijnSFE4"
      },
      "source": [
        "### Run Optimal K-Means"
      ]
    },
    {
      "cell_type": "markdown",
      "metadata": {
        "id": "68RT3JscSFE4"
      },
      "source": [
        "Create and fit the optimal K-Means cluster model"
      ]
    },
    {
      "cell_type": "code",
      "metadata": {
        "colab": {
          "base_uri": "https://localhost:8080/"
        },
        "id": "ZXiNqPlpSFE4",
        "outputId": "23a2fe74-ac41-4b9e-ade6-2e429cc57f7f"
      },
      "source": [
        "kmeans = KMeans(n_clusters=4, init ='k-means++', max_iter=300, n_init=10, random_state=0 )\n",
        "kmeans.fit(X)"
      ],
      "execution_count": 90,
      "outputs": [
        {
          "output_type": "execute_result",
          "data": {
            "text/plain": [
              "KMeans(algorithm='auto', copy_x=True, init='k-means++', max_iter=300,\n",
              "       n_clusters=4, n_init=10, n_jobs=None, precompute_distances='auto',\n",
              "       random_state=0, tol=0.0001, verbose=0)"
            ]
          },
          "metadata": {
            "tags": []
          },
          "execution_count": 90
        }
      ]
    },
    {
      "cell_type": "code",
      "metadata": {
        "colab": {
          "base_uri": "https://localhost:8080/"
        },
        "id": "Fhi3fQCISFE5",
        "outputId": "42f51930-7588-4528-9188-142d587e75ef"
      },
      "source": [
        "# The number of iterations required to converge\n",
        "kmeans.n_iter_"
      ],
      "execution_count": 91,
      "outputs": [
        {
          "output_type": "execute_result",
          "data": {
            "text/plain": [
              "4"
            ]
          },
          "metadata": {
            "tags": []
          },
          "execution_count": 91
        }
      ]
    },
    {
      "cell_type": "markdown",
      "metadata": {
        "id": "WdFHCcsCSFE5"
      },
      "source": [
        "Fit and predict the cluster labels"
      ]
    },
    {
      "cell_type": "code",
      "metadata": {
        "colab": {
          "base_uri": "https://localhost:8080/"
        },
        "id": "Z2mRClg6SFE5",
        "outputId": "5206a6a9-6dff-415d-a834-c60b651757ad"
      },
      "source": [
        "labels = kmeans.fit_predict(X)\n",
        "Counter(labels)"
      ],
      "execution_count": 92,
      "outputs": [
        {
          "output_type": "execute_result",
          "data": {
            "text/plain": [
              "Counter({0: 108, 1: 1, 2: 12, 3: 4})"
            ]
          },
          "metadata": {
            "tags": []
          },
          "execution_count": 92
        }
      ]
    },
    {
      "cell_type": "code",
      "metadata": {
        "colab": {
          "base_uri": "https://localhost:8080/"
        },
        "id": "-W3E7ctFSFE5",
        "outputId": "fb409f4d-a6a4-44a6-a623-c977ca06faf4"
      },
      "source": [
        "X['Label'] = labels"
      ],
      "execution_count": 93,
      "outputs": [
        {
          "output_type": "stream",
          "text": [
            "/usr/local/lib/python3.7/dist-packages/ipykernel_launcher.py:1: SettingWithCopyWarning: \n",
            "A value is trying to be set on a copy of a slice from a DataFrame.\n",
            "Try using .loc[row_indexer,col_indexer] = value instead\n",
            "\n",
            "See the caveats in the documentation: https://pandas.pydata.org/pandas-docs/stable/user_guide/indexing.html#returning-a-view-versus-a-copy\n",
            "  \"\"\"Entry point for launching an IPython kernel.\n"
          ],
          "name": "stderr"
        }
      ]
    },
    {
      "cell_type": "markdown",
      "metadata": {
        "id": "zXZu9nhvSFE5"
      },
      "source": [
        "Look at centroids"
      ]
    },
    {
      "cell_type": "code",
      "metadata": {
        "colab": {
          "base_uri": "https://localhost:8080/"
        },
        "id": "94X4EJFFSFE6",
        "outputId": "b13766d3-12e5-436e-90be-681e15b9864a"
      },
      "source": [
        "kmeans.cluster_centers_"
      ],
      "execution_count": 94,
      "outputs": [
        {
          "output_type": "execute_result",
          "data": {
            "text/plain": [
              "array([[-0.20422233, -0.28050032],\n",
              "       [10.34407864,  8.26691245],\n",
              "       [ 0.53576395,  0.87222099],\n",
              "       [ 1.32069144,  2.89011764]])"
            ]
          },
          "metadata": {
            "tags": []
          },
          "execution_count": 94
        }
      ]
    },
    {
      "cell_type": "code",
      "metadata": {
        "colab": {
          "base_uri": "https://localhost:8080/",
          "height": 411
        },
        "id": "px-MXIaZSFE6",
        "outputId": "a6d618d6-16b8-4f25-f852-24d55bb84af2"
      },
      "source": [
        "X[X.Label==2][['Pop_Sq_Mile','Cases_Sq_Mile']]"
      ],
      "execution_count": 95,
      "outputs": [
        {
          "output_type": "execute_result",
          "data": {
            "text/html": [
              "<div>\n",
              "<style scoped>\n",
              "    .dataframe tbody tr th:only-of-type {\n",
              "        vertical-align: middle;\n",
              "    }\n",
              "\n",
              "    .dataframe tbody tr th {\n",
              "        vertical-align: top;\n",
              "    }\n",
              "\n",
              "    .dataframe thead th {\n",
              "        text-align: right;\n",
              "    }\n",
              "</style>\n",
              "<table border=\"1\" class=\"dataframe\">\n",
              "  <thead>\n",
              "    <tr style=\"text-align: right;\">\n",
              "      <th></th>\n",
              "      <th>Pop_Sq_Mile</th>\n",
              "      <th>Cases_Sq_Mile</th>\n",
              "    </tr>\n",
              "  </thead>\n",
              "  <tbody>\n",
              "    <tr>\n",
              "      <th>184</th>\n",
              "      <td>0.975903</td>\n",
              "      <td>0.878615</td>\n",
              "    </tr>\n",
              "    <tr>\n",
              "      <th>190</th>\n",
              "      <td>0.607902</td>\n",
              "      <td>0.626493</td>\n",
              "    </tr>\n",
              "    <tr>\n",
              "      <th>217</th>\n",
              "      <td>0.606203</td>\n",
              "      <td>0.768997</td>\n",
              "    </tr>\n",
              "    <tr>\n",
              "      <th>224</th>\n",
              "      <td>0.663385</td>\n",
              "      <td>0.593607</td>\n",
              "    </tr>\n",
              "    <tr>\n",
              "      <th>226</th>\n",
              "      <td>0.541661</td>\n",
              "      <td>0.571683</td>\n",
              "    </tr>\n",
              "    <tr>\n",
              "      <th>322</th>\n",
              "      <td>0.609600</td>\n",
              "      <td>1.788450</td>\n",
              "    </tr>\n",
              "    <tr>\n",
              "      <th>331</th>\n",
              "      <td>0.406916</td>\n",
              "      <td>1.021120</td>\n",
              "    </tr>\n",
              "    <tr>\n",
              "      <th>344</th>\n",
              "      <td>0.512221</td>\n",
              "      <td>1.108815</td>\n",
              "    </tr>\n",
              "    <tr>\n",
              "      <th>351</th>\n",
              "      <td>0.251790</td>\n",
              "      <td>0.593607</td>\n",
              "    </tr>\n",
              "    <tr>\n",
              "      <th>364</th>\n",
              "      <td>0.568837</td>\n",
              "      <td>1.306128</td>\n",
              "    </tr>\n",
              "    <tr>\n",
              "      <th>366</th>\n",
              "      <td>0.125537</td>\n",
              "      <td>0.385331</td>\n",
              "    </tr>\n",
              "    <tr>\n",
              "      <th>373</th>\n",
              "      <td>0.559212</td>\n",
              "      <td>0.823806</td>\n",
              "    </tr>\n",
              "  </tbody>\n",
              "</table>\n",
              "</div>"
            ],
            "text/plain": [
              "     Pop_Sq_Mile  Cases_Sq_Mile\n",
              "184     0.975903       0.878615\n",
              "190     0.607902       0.626493\n",
              "217     0.606203       0.768997\n",
              "224     0.663385       0.593607\n",
              "226     0.541661       0.571683\n",
              "322     0.609600       1.788450\n",
              "331     0.406916       1.021120\n",
              "344     0.512221       1.108815\n",
              "351     0.251790       0.593607\n",
              "364     0.568837       1.306128\n",
              "366     0.125537       0.385331\n",
              "373     0.559212       0.823806"
            ]
          },
          "metadata": {
            "tags": []
          },
          "execution_count": 95
        }
      ]
    },
    {
      "cell_type": "markdown",
      "metadata": {
        "id": "r2ZF9Dg2SFE7"
      },
      "source": [
        "### Scatter Plot Cluster Results"
      ]
    },
    {
      "cell_type": "markdown",
      "metadata": {
        "id": "q4XEgTNCSFE7"
      },
      "source": [
        "#### Plot scaled data cluster "
      ]
    },
    {
      "cell_type": "code",
      "metadata": {
        "colab": {
          "base_uri": "https://localhost:8080/",
          "height": 527
        },
        "id": "0nSHuvhiSFE7",
        "outputId": "5c1e3215-4b01-4540-c2a7-0f642ac031b7"
      },
      "source": [
        "fig= plt.figure(figsize=(16,8))\n",
        "plt.scatter(X[X.Label==0]['Pop_Sq_Mile'], X[X.Label==0]['Cases_Sq_Mile'], s=50, c='red', label ='Cluster 1')\n",
        "plt.scatter(X[X.Label==1]['Pop_Sq_Mile'], X[X.Label==1]['Cases_Sq_Mile'], s=50, c='cyan', label ='Cluster 2')\n",
        "plt.scatter(X[X.Label==2]['Pop_Sq_Mile'], X[X.Label==2]['Cases_Sq_Mile'], s=50, c='orange', label ='Cluster 3')\n",
        "plt.scatter(X[X.Label==3]['Pop_Sq_Mile'], X[X.Label==3]['Cases_Sq_Mile'], s=50, c='blue', label ='Cluster 4')\n",
        "plt.scatter(kmeans.cluster_centers_[:, 0], kmeans.cluster_centers_[:, 1], s=300, c='black', label = 'Centroids', marker='*')\n",
        "plt.title('Clusters of Population Density and COVID-19 Cases\\nCalifornia and Florida Counties')\n",
        "plt.xlabel('Population Per Square Mile')\n",
        "plt.ylabel('Cases Per Square Mile')\n",
        "plt.legend(loc='upper left')\n",
        "plt.show()"
      ],
      "execution_count": 96,
      "outputs": [
        {
          "output_type": "display_data",
          "data": {
            "image/png": "[encoded data removed]",
            "text/plain": [
              "<Figure size 1152x576 with 1 Axes>"
            ]
          },
          "metadata": {
            "tags": [],
            "needs_background": "light"
          }
        }
      ]
    },
    {
      "cell_type": "code",
      "metadata": {
        "colab": {
          "base_uri": "https://localhost:8080/",
          "height": 236
        },
        "id": "PRccllyvSFE8",
        "outputId": "3577830b-4dbd-4a64-b264-7bccc38e1f48"
      },
      "source": [
        "cafl_df['Label'] = labels\n",
        "cafl_df[['County','Pop_Sq_Mile','Cases_Sq_Mile','Label']].head(3)"
      ],
      "execution_count": 97,
      "outputs": [
        {
          "output_type": "stream",
          "text": [
            "/usr/local/lib/python3.7/dist-packages/ipykernel_launcher.py:1: SettingWithCopyWarning: \n",
            "A value is trying to be set on a copy of a slice from a DataFrame.\n",
            "Try using .loc[row_indexer,col_indexer] = value instead\n",
            "\n",
            "See the caveats in the documentation: https://pandas.pydata.org/pandas-docs/stable/user_guide/indexing.html#returning-a-view-versus-a-copy\n",
            "  \"\"\"Entry point for launching an IPython kernel.\n"
          ],
          "name": "stderr"
        },
        {
          "output_type": "execute_result",
          "data": {
            "text/html": [
              "<div>\n",
              "<style scoped>\n",
              "    .dataframe tbody tr th:only-of-type {\n",
              "        vertical-align: middle;\n",
              "    }\n",
              "\n",
              "    .dataframe tbody tr th {\n",
              "        vertical-align: top;\n",
              "    }\n",
              "\n",
              "    .dataframe thead th {\n",
              "        text-align: right;\n",
              "    }\n",
              "</style>\n",
              "<table border=\"1\" class=\"dataframe\">\n",
              "  <thead>\n",
              "    <tr style=\"text-align: right;\">\n",
              "      <th></th>\n",
              "      <th>County</th>\n",
              "      <th>Pop_Sq_Mile</th>\n",
              "      <th>Cases_Sq_Mile</th>\n",
              "      <th>Label</th>\n",
              "    </tr>\n",
              "  </thead>\n",
              "  <tbody>\n",
              "    <tr>\n",
              "      <th>184</th>\n",
              "      <td>Alameda County</td>\n",
              "      <td>2261</td>\n",
              "      <td>121</td>\n",
              "      <td>2</td>\n",
              "    </tr>\n",
              "    <tr>\n",
              "      <th>185</th>\n",
              "      <td>Alpine County</td>\n",
              "      <td>1</td>\n",
              "      <td>0</td>\n",
              "      <td>0</td>\n",
              "    </tr>\n",
              "    <tr>\n",
              "      <th>186</th>\n",
              "      <td>Amador County</td>\n",
              "      <td>66</td>\n",
              "      <td>6</td>\n",
              "      <td>0</td>\n",
              "    </tr>\n",
              "  </tbody>\n",
              "</table>\n",
              "</div>"
            ],
            "text/plain": [
              "             County  Pop_Sq_Mile  Cases_Sq_Mile  Label\n",
              "184  Alameda County         2261            121      2\n",
              "185   Alpine County            1              0      0\n",
              "186   Amador County           66              6      0"
            ]
          },
          "metadata": {
            "tags": []
          },
          "execution_count": 97
        }
      ]
    },
    {
      "cell_type": "markdown",
      "metadata": {
        "id": "X75M9okISFE8"
      },
      "source": [
        "#### Plot clusters on original data scale"
      ]
    },
    {
      "cell_type": "markdown",
      "metadata": {
        "id": "uS7OihScSFE8"
      },
      "source": [
        "Scale back the centroids to original data representation\n"
      ]
    },
    {
      "cell_type": "code",
      "metadata": {
        "colab": {
          "base_uri": "https://localhost:8080/"
        },
        "id": "Mg-ghG-cSFE8",
        "outputId": "e869009d-7346-4996-940a-796d66a259aa"
      },
      "source": [
        "centroids = scaler.inverse_transform(kmeans.cluster_centers_)\n",
        "centroids"
      ],
      "execution_count": 177,
      "outputs": [
        {
          "output_type": "execute_result",
          "data": {
            "text/plain": [
              "array([[1.76546296e+02, 1.52592593e+01],\n",
              "       [1.88080000e+04, 7.95000000e+02],\n",
              "       [1.48358333e+03, 1.20416667e+02],\n",
              "       [2.87000000e+03, 3.04500000e+02]])"
            ]
          },
          "metadata": {
            "tags": []
          },
          "execution_count": 177
        }
      ]
    },
    {
      "cell_type": "code",
      "metadata": {
        "id": "9ZRfIfsmSFE9"
      },
      "source": [
        "X1 = cafl_df"
      ],
      "execution_count": 99,
      "outputs": []
    },
    {
      "cell_type": "code",
      "metadata": {
        "colab": {
          "base_uri": "https://localhost:8080/",
          "height": 527
        },
        "id": "kRP-xwbSSFE9",
        "outputId": "5f7b1bc8-0a91-45b2-932c-a74c7116098b"
      },
      "source": [
        "fig= plt.figure(figsize=(16,8))\n",
        "plt.scatter(X1[X1.Label==0]['Pop_Sq_Mile'], X1[X1.Label==0]['Cases_Sq_Mile'], s=50, c='red', label ='Cluster 1')\n",
        "plt.scatter(X1[X1.Label==1]['Pop_Sq_Mile'], X1[X1.Label==1]['Cases_Sq_Mile'], s=50, c='cyan', label ='Cluster 2')\n",
        "plt.scatter(X1[X1.Label==2]['Pop_Sq_Mile'], X1[X1.Label==2]['Cases_Sq_Mile'], s=50, c='orange', label ='Cluster 3')\n",
        "plt.scatter(X1[X1.Label==3]['Pop_Sq_Mile'], X1[X1.Label==3]['Cases_Sq_Mile'], s=50, c='blue', label ='Cluster 4')\n",
        "plt.scatter(centroids[:, 0], centroids[:, 1], s=300, c='black', label = 'Centroids', marker='*')\n",
        "plt.title('Clusters of Population Density and COVID-19 Cases\\nCalifornia and Florida Counties')\n",
        "plt.xlabel('Population Per Square Mile')\n",
        "plt.ylabel('Cases Per Square Mile')\n",
        "plt.legend(loc='upper left')\n",
        "plt.show()"
      ],
      "execution_count": 100,
      "outputs": [
        {
          "output_type": "display_data",
          "data": {
            "image/png": "[encoded data removed]",
            "text/plain": [
              "<Figure size 1152x576 with 1 Axes>"
            ]
          },
          "metadata": {
            "tags": [],
            "needs_background": "light"
          }
        }
      ]
    },
    {
      "cell_type": "code",
      "metadata": {
        "colab": {
          "base_uri": "https://localhost:8080/"
        },
        "id": "UcMM_2GLmdOz",
        "outputId": "db7a7c0b-d188-4314-eaad-ecfe6d51f6ba"
      },
      "source": [
        "# Remove outlier cluster centroid since it only has San Francisco in its cluster\n",
        "centroids_list = list(centroids)\n",
        "centroids_list.pop(1)  # Remove Cluster 2 at index 1\n",
        "centroids = np.array(centroids_list)\n",
        "centroids"
      ],
      "execution_count": 178,
      "outputs": [
        {
          "output_type": "execute_result",
          "data": {
            "text/plain": [
              "array([[ 176.5462963 ,   15.25925926],\n",
              "       [1483.58333333,  120.41666667],\n",
              "       [2870.        ,  304.5       ]])"
            ]
          },
          "metadata": {
            "tags": []
          },
          "execution_count": 178
        }
      ]
    },
    {
      "cell_type": "code",
      "metadata": {
        "id": "-9rRJNlCSFE9",
        "colab": {
          "base_uri": "https://localhost:8080/",
          "height": 527
        },
        "outputId": "98344b50-3f14-41e2-cb1e-b95b583cc7f2"
      },
      "source": [
        "fig= plt.figure(figsize=(16,8))\n",
        "plt.scatter(X1[X1.Label==0]['Pop_Sq_Mile'], X1[X1.Label==0]['Cases_Sq_Mile'], s=50, c='red', label ='Cluster 1')\n",
        "#plt.scatter(X1[X1.Label==1]['Pop_Sq_Mile'], X1[X1.Label==1]['Cases_Sq_Mile'], s=50, c='cyan', label ='Cluster 2')\n",
        "plt.scatter(X1[X1.Label==2]['Pop_Sq_Mile'], X1[X1.Label==2]['Cases_Sq_Mile'], s=50, c='orange', label ='Cluster 3')\n",
        "plt.scatter(X1[X1.Label==3]['Pop_Sq_Mile'], X1[X1.Label==3]['Cases_Sq_Mile'], s=50, c='blue', label ='Cluster 4')\n",
        "plt.scatter(centroids[:, 0], centroids[:, 1], s=300, c='black', label = 'Centroids', marker='*')\n",
        "plt.title('Clusters of Population Density and COVID-19 Cases\\nCalifornia and Florida Counties')\n",
        "plt.xlabel('Population Per Square Mile')\n",
        "plt.ylabel('Cases Per Square Mile')\n",
        "plt.legend(loc='upper left')\n",
        "plt.show()"
      ],
      "execution_count": 179,
      "outputs": [
        {
          "output_type": "display_data",
          "data": {
            "image/png": "[encoded data removed]",
            "text/plain": [
              "<Figure size 1152x576 with 1 Axes>"
            ]
          },
          "metadata": {
            "tags": [],
            "needs_background": "light"
          }
        }
      ]
    },
    {
      "cell_type": "code",
      "metadata": {
        "id": "VKamKxyESCVK"
      },
      "source": [
        ""
      ],
      "execution_count": null,
      "outputs": []
    }
  ]
}